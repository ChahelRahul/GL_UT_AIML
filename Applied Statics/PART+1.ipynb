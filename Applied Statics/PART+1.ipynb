{
 "cells": [
  {
   "cell_type": "code",
   "execution_count": 1,
   "metadata": {},
   "outputs": [],
   "source": [
    "import numpy as np\n",
    "import scipy\n",
    "import scipy.stats as stats\n",
    "import seaborn as sns\n",
    "from scipy.stats import poisson\n",
    "import matplotlib.pyplot as plt"
   ]
  },
  {
   "cell_type": "markdown",
   "metadata": {},
   "source": [
    "# Answer 1      "
   ]
  },
  {
   "cell_type": "code",
   "execution_count": 2,
   "metadata": {},
   "outputs": [
    {
     "name": "stdout",
     "output_type": "stream",
     "text": [
      "joint probability of the people who planned to purchase and actually placed an order is 0.2\n",
      "joint probability of the people who planned to purchase and actually placed an order, given that people planned to purchase is 0.8\n"
     ]
    }
   ],
   "source": [
    "print('joint probability of the people who planned to purchase and actually placed an order is',400/2000)\n",
    "print('joint probability of the people who planned to purchase and actually placed an order, given that people planned to purchase is',400/500)"
   ]
  },
  {
   "cell_type": "markdown",
   "metadata": {},
   "source": [
    "#\n",
    "Question 2 : An electrical manufacturing company conducts quality checks at specified periods on the products it manufactures. Historically, the failure rate for the manufactured item is 5%. Suppose a randomsample of 10 manufactured items is selected. Answer the following questions.\n",
    "    \n",
    "    A. Probability that none of the items are defective?\n",
    "    \n",
    "    B. Probability that exactly one of the items is defective?\n",
    "    \n",
    "    C. Probability that two or fewer of the items are defective?\n",
    "    \n",
    "    D. Probability that three or more of the items are defective ?"
   ]
  },
  {
   "cell_type": "code",
   "execution_count": 3,
   "metadata": {
    "scrolled": true
   },
   "outputs": [
    {
     "name": "stdout",
     "output_type": "stream",
     "text": [
      "Probability that none of the items are defective is 0.5987369392383789\n",
      "\n",
      "Probability that exactly one of the items is defective is 0.31512470486230504\n",
      "\n",
      "Probability that two or fewer of the items are defective is 0.9884964426207035\n",
      "\n",
      "Probability that three or more of the items are defective is 0.011503557379296881\n"
     ]
    }
   ],
   "source": [
    "n=10\n",
    "p=0.05\n",
    "g=np.arange(n+1)\n",
    "bi = stats.binom.pmf(g,n,p)\n",
    "print('Probability that none of the items are defective is',bi[0])\n",
    "print('\\nProbability that exactly one of the items is defective is',bi[1])\n",
    "print('\\nProbability that two or fewer of the items are defective is',sum(bi[:3]))\n",
    "print('\\nProbability that three or more of the items are defective is',sum(bi[3:]))"
   ]
  },
  {
   "cell_type": "markdown",
   "metadata": {},
   "source": [
    "Question 3: A car salesman sells on an average 3 cars per week.\n",
    "\n",
    "A. Probability that in a given week he will sell some cars.\n",
    "\n",
    "B. Probability that in a given week he will sell 2 or more but less than 5 cars.\n",
    "\n",
    "C. Plot the poisson distribution function for cumulative probability of cars sold per-week vs number of cars sold perweek."
   ]
  },
  {
   "cell_type": "code",
   "execution_count": 4,
   "metadata": {},
   "outputs": [
    {
     "name": "stdout",
     "output_type": "stream",
     "text": [
      "\n",
      "A.Probability that in a given week he will sell some cars is 0.950212931632136\n",
      "\n",
      "B.Probability that in a given week he will sell 2 or more but less than 5 cars is 0.6161149710523164\n",
      "\n",
      "C.Poisson distribution function for cumulative probability of cars sold perweek vs number of cars sold perweek.\n",
      "\n"
     ]
    },
    {
     "data": {
      "image/png": "[encoded data removed]",
      "text/plain": [
       "<Figure size 432x288 with 1 Axes>"
      ]
     },
     "metadata": {
      "needs_background": "light"
     },
     "output_type": "display_data"
    }
   ],
   "source": [
    "lam = 3\n",
    "n=np.arange(0,1)\n",
    "poidis = stats.poisson.pmf(n,lam)\n",
    "print('\\nA.Probability that in a given week he will sell some cars is',sum(1-poidis))\n",
    "n=np.arange(2,5)\n",
    "poidis= stats.poisson.pmf(n,lam)\n",
    "print('\\nB.Probability that in a given week he will sell 2 or more but less than 5 cars is',sum(poidis))\n",
    "print('\\nC.Poisson distribution function for cumulative probability of cars sold perweek vs number of cars sold perweek.\\n')\n",
    "lam=3\n",
    "n=np.arange(1,10)\n",
    "\n",
    "data_sorted = np.sort(n)\n",
    "norm_cdf = scipy.stats.norm.cdf(n)\n",
    "sns.lineplot(x=n, y=norm_cdf)\n",
    "plt.show()"
   ]
  },
  {
   "cell_type": "markdown",
   "metadata": {},
   "source": [
    "Question 4: Accuracy in understanding orders for a speech based bot at a restaurant is important for the.Company X which has designed, marketed and launched the product for a contactless delivery due to the COVID-19 pandemic. Recognition accuracy that measures the percentage of orders that are taken correctly is 86.8%. Suppose that you place order with the bot and two friends of yours independently place orders with the same bot. Answer the following questions.\n",
    "\n",
    "A. What is the probability that all three orders will be recognised correctly?\n",
    "\n",
    "B. What is the probability that none of the three orders will be recognised correctly?\n",
    "\n",
    "C. What is the probability that at least two of the three orders will be recognised correctly?"
   ]
  },
  {
   "cell_type": "code",
   "execution_count": 5,
   "metadata": {},
   "outputs": [
    {
     "name": "stdout",
     "output_type": "stream",
     "text": [
      "probability that all three orders will be recognised correctly is 0.653972032\n",
      "probability that none of the three orders will be recognised correctly is 0.002299968\n",
      "probability that at least two of the three orders will be recognised correctly is 0.9523279359999999\n"
     ]
    }
   ],
   "source": [
    "n=3\n",
    "p=0.868\n",
    "g=np.arange(n+1)\n",
    "bidis = stats.binom.pmf(g,n,p)\n",
    "print('probability that all three orders will be recognised correctly is',bidis[3])\n",
    "print('probability that none of the three orders will be recognised correctly is',bidis[0])\n",
    "print('probability that at least two of the three orders will be recognised correctly is',sum(bidis[2:]))"
   ]
  },
  {
   "cell_type": "markdown",
   "metadata": {},
   "source": [
    "Question 5: A group of 300 professionals sat for a competitive exam. The results show the information of marks obtained by them have a mean of 60 and a standard deviation of 12. The pattern of marks follows a normal distribution. Answer the following questions.\n",
    "\n",
    "A. What is the percentage of students who score more than 80.\n",
    "\n",
    "B. What is the percentage of students who score less than 50.\n",
    "\n",
    "C. What should be the distinction mark if the highest 10% of students are to be awarded distinction?"
   ]
  },
  {
   "cell_type": "code",
   "execution_count": 6,
   "metadata": {},
   "outputs": [
    {
     "name": "stdout",
     "output_type": "stream",
     "text": [
      "percentage of students who score more than 80 is 4.77903522728147 %\n",
      "percentage of students who score less than 50 is 20.232838096364308 %\n",
      "distinction mark if the highest 10% of students are to be awarded distinction is 75.38\n"
     ]
    }
   ],
   "source": [
    "a=stats.norm.cdf(80,loc=60,scale=12)\n",
    "b=stats.norm.cdf(50,loc=60,scale=12)\n",
    "c=stats.norm.cdf(75.38,loc=60,scale=12)\n",
    "print('percentage of students who score more than 80 is',(1-a)*100,'%')\n",
    "print('percentage of students who score less than 50 is',b*100,'%')\n",
    "print('distinction mark if the highest 10% of students are to be awarded distinction is 75.38')"
   ]
  },
  {
   "cell_type": "markdown",
   "metadata": {},
   "source": [
    "    \n",
    "       Question 6: Explain 1 real life industry scenario [other than the ones mentioned above] where you can use the concepts learnt in this module of Applied statistics to get a data driven business solution."
   ]
  },
  {
   "cell_type": "markdown",
   "metadata": {},
   "source": [
    " By using this module we can evaluate the quality of education provided by Educational intitute by using data of marks obtained by students.Can be done with respective subject too."
   ]
  },
  {
   "cell_type": "code",
   "execution_count": null,
   "metadata": {},
   "outputs": [],
   "source": []
  }
 ],
 "metadata": {
  "kernelspec": {
   "display_name": "Python 3",
   "language": "python",
   "name": "python3"
  },
  "language_info": {
   "codemirror_mode": {
    "name": "ipython",
    "version": 3
   },
   "file_extension": ".py",
   "mimetype": "text/x-python",
   "name": "python",
   "nbconvert_exporter": "python",
   "pygments_lexer": "ipython3",
   "version": "3.8.5"
  }
 },
 "nbformat": 4,
 "nbformat_minor": 4
}
