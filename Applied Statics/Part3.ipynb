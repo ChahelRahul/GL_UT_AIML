{
 "cells": [
  {
   "cell_type": "code",
   "execution_count": 1,
   "metadata": {},
   "outputs": [],
   "source": [
    "import pandas as pd\n",
    "import numpy as np\n",
    "import seaborn as sns\n",
    "import warnings\n",
    "warnings.filterwarnings(\"ignore\")\n",
    "import plotly.express as px\n",
    "import scipy\n",
    "from scipy.stats import shapiro,ttest_ind,mannwhitneyu"
   ]
  },
  {
   "cell_type": "markdown",
   "metadata": {},
   "source": [
    "# Data Warehouse\n",
    "    Read the CSV file"
   ]
  },
  {
   "cell_type": "code",
   "execution_count": 2,
   "metadata": {},
   "outputs": [],
   "source": [
    "Data=pd.read_csv('DS - Part3 - CompanyX_EU.csv')\n",
    "nData=pd.read_csv('DS - Part3 - CompanyX_EU.csv',index_col=0)"
   ]
  },
  {
   "cell_type": "markdown",
   "metadata": {},
   "source": [
    "# Data Exploration\n",
    "   1. Check the datatypes of each attribute"
   ]
  },
  {
   "cell_type": "code",
   "execution_count": 3,
   "metadata": {},
   "outputs": [
    {
     "data": {
      "text/plain": [
       "Startup           object\n",
       "Product           object\n",
       "Funding           object\n",
       "Event             object\n",
       "Result            object\n",
       "OperatingState    object\n",
       "dtype: object"
      ]
     },
     "execution_count": 3,
     "metadata": {},
     "output_type": "execute_result"
    }
   ],
   "source": [
    "Data.dtypes"
   ]
  },
  {
   "cell_type": "markdown",
   "metadata": {},
   "source": [
    "# \n",
    "    2.Check for null values in the attribtes\n",
    "        Number of Null values in each attribte"
   ]
  },
  {
   "cell_type": "code",
   "execution_count": 4,
   "metadata": {},
   "outputs": [
    {
     "data": {
      "text/plain": [
       "Startup             0\n",
       "Product             6\n",
       "Funding           214\n",
       "Event               0\n",
       "Result              0\n",
       "OperatingState      0\n",
       "dtype: int64"
      ]
     },
     "execution_count": 4,
     "metadata": {},
     "output_type": "execute_result"
    }
   ],
   "source": [
    "Data.isna().sum()"
   ]
  },
  {
   "cell_type": "code",
   "execution_count": 5,
   "metadata": {},
   "outputs": [
    {
     "data": {
      "text/html": [
       "<div>\n",
       "<style scoped>\n",
       "    .dataframe tbody tr th:only-of-type {\n",
       "        vertical-align: middle;\n",
       "    }\n",
       "\n",
       "    .dataframe tbody tr th {\n",
       "        vertical-align: top;\n",
       "    }\n",
       "\n",
       "    .dataframe thead th {\n",
       "        text-align: right;\n",
       "    }\n",
       "</style>\n",
       "<table border=\"1\" class=\"dataframe\">\n",
       "  <thead>\n",
       "    <tr style=\"text-align: right;\">\n",
       "      <th></th>\n",
       "      <th>Product</th>\n",
       "      <th>Funding</th>\n",
       "      <th>Event</th>\n",
       "      <th>Result</th>\n",
       "      <th>OperatingState</th>\n",
       "    </tr>\n",
       "    <tr>\n",
       "      <th>Startup</th>\n",
       "      <th></th>\n",
       "      <th></th>\n",
       "      <th></th>\n",
       "      <th></th>\n",
       "      <th></th>\n",
       "    </tr>\n",
       "  </thead>\n",
       "  <tbody>\n",
       "    <tr>\n",
       "      <th>2600Hz</th>\n",
       "      <td>False</td>\n",
       "      <td>True</td>\n",
       "      <td>False</td>\n",
       "      <td>False</td>\n",
       "      <td>False</td>\n",
       "    </tr>\n",
       "    <tr>\n",
       "      <th>3DLT</th>\n",
       "      <td>False</td>\n",
       "      <td>False</td>\n",
       "      <td>False</td>\n",
       "      <td>False</td>\n",
       "      <td>False</td>\n",
       "    </tr>\n",
       "    <tr>\n",
       "      <th>3DPrinterOS</th>\n",
       "      <td>False</td>\n",
       "      <td>True</td>\n",
       "      <td>False</td>\n",
       "      <td>False</td>\n",
       "      <td>False</td>\n",
       "    </tr>\n",
       "    <tr>\n",
       "      <th>3Dprintler</th>\n",
       "      <td>False</td>\n",
       "      <td>False</td>\n",
       "      <td>False</td>\n",
       "      <td>False</td>\n",
       "      <td>False</td>\n",
       "    </tr>\n",
       "    <tr>\n",
       "      <th>42 Technologies</th>\n",
       "      <td>False</td>\n",
       "      <td>True</td>\n",
       "      <td>False</td>\n",
       "      <td>False</td>\n",
       "      <td>False</td>\n",
       "    </tr>\n",
       "    <tr>\n",
       "      <th>...</th>\n",
       "      <td>...</td>\n",
       "      <td>...</td>\n",
       "      <td>...</td>\n",
       "      <td>...</td>\n",
       "      <td>...</td>\n",
       "    </tr>\n",
       "    <tr>\n",
       "      <th>Zivity</th>\n",
       "      <td>False</td>\n",
       "      <td>False</td>\n",
       "      <td>False</td>\n",
       "      <td>False</td>\n",
       "      <td>False</td>\n",
       "    </tr>\n",
       "    <tr>\n",
       "      <th>Zmorph</th>\n",
       "      <td>False</td>\n",
       "      <td>False</td>\n",
       "      <td>False</td>\n",
       "      <td>False</td>\n",
       "      <td>False</td>\n",
       "    </tr>\n",
       "    <tr>\n",
       "      <th>Zocdoc</th>\n",
       "      <td>False</td>\n",
       "      <td>False</td>\n",
       "      <td>False</td>\n",
       "      <td>False</td>\n",
       "      <td>False</td>\n",
       "    </tr>\n",
       "    <tr>\n",
       "      <th>Zula</th>\n",
       "      <td>False</td>\n",
       "      <td>False</td>\n",
       "      <td>False</td>\n",
       "      <td>False</td>\n",
       "      <td>False</td>\n",
       "    </tr>\n",
       "    <tr>\n",
       "      <th>Zumper</th>\n",
       "      <td>False</td>\n",
       "      <td>False</td>\n",
       "      <td>False</td>\n",
       "      <td>False</td>\n",
       "      <td>False</td>\n",
       "    </tr>\n",
       "  </tbody>\n",
       "</table>\n",
       "<p>662 rows × 5 columns</p>\n",
       "</div>"
      ],
      "text/plain": [
       "                 Product  Funding  Event  Result  OperatingState\n",
       "Startup                                                         \n",
       "2600Hz             False     True  False   False           False\n",
       "3DLT               False    False  False   False           False\n",
       "3DPrinterOS        False     True  False   False           False\n",
       "3Dprintler         False    False  False   False           False\n",
       "42 Technologies    False     True  False   False           False\n",
       "...                  ...      ...    ...     ...             ...\n",
       "Zivity             False    False  False   False           False\n",
       "Zmorph             False    False  False   False           False\n",
       "Zocdoc             False    False  False   False           False\n",
       "Zula               False    False  False   False           False\n",
       "Zumper             False    False  False   False           False\n",
       "\n",
       "[662 rows x 5 columns]"
      ]
     },
     "execution_count": 5,
     "metadata": {},
     "output_type": "execute_result"
    }
   ],
   "source": [
    "null=pd.isnull(nData)\n",
    "null"
   ]
  },
  {
   "cell_type": "markdown",
   "metadata": {},
   "source": [
    "# \n",
    "    Rows with Null value in Product attribte"
   ]
  },
  {
   "cell_type": "code",
   "execution_count": 6,
   "metadata": {},
   "outputs": [
    {
     "data": {
      "text/plain": [
       "array(['IMO', 'keenkong', 'LocalHero Inc.', 'MotherKnows', 'Rainbow',\n",
       "       'Tello Applications'], dtype=object)"
      ]
     },
     "execution_count": 6,
     "metadata": {},
     "output_type": "execute_result"
    }
   ],
   "source": [
    "null=pd.isnull(nData)\n",
    "null=null[null['Product']==True]\n",
    "null.index.values"
   ]
  },
  {
   "cell_type": "markdown",
   "metadata": {},
   "source": [
    "#    \n",
    "    Rows with Null value in Funding attribte"
   ]
  },
  {
   "cell_type": "code",
   "execution_count": 7,
   "metadata": {},
   "outputs": [
    {
     "data": {
      "text/plain": [
       "array(['2600Hz', '3DPrinterOS', '42 Technologies', '8020 Media',\n",
       "       'About Last Night', 'Adgregate Markets', 'Affective Interfaces',\n",
       "       'AirWander', 'Alfabetic', 'Allre', 'Alpha Outlook', 'Altwork',\n",
       "       'Amaryllis Nucleics', 'Anquanbao', 'Ansa', 'AppArchitect',\n",
       "       'Arctuition', 'Arrived', 'Artomatix', 'Artveoli, Inc.', 'Athla',\n",
       "       'Audioo', 'Bark Technologies', 'Bidzy', 'BLITAB Technology',\n",
       "       'Bojam', 'Bravo Tip or Pay', 'Breakthrough Partners', 'Breinify',\n",
       "       'BrightContext', 'BroadPeak Partners', 'Cake Financial',\n",
       "       'CardFlick', 'Cardify', 'Careticker', 'CareZapp', 'Causecast',\n",
       "       'ChompOn', 'Chronos Mobile Technologies', 'Churn Labs', 'Chyngle',\n",
       "       'Clixtr', 'Cloudwear, Inc.', 'Connective Logic', 'CoroNet',\n",
       "       'Cosmic', 'CrowdSpirit', 'CUJO', 'Curiator', 'Current Labs',\n",
       "       'Cyfeon Solutions', 'Donde', 'Dryft', 'Emerginvest',\n",
       "       'EnergyElephant', 'exchangeP', 'Exversion', 'FairFleet', 'FAROO',\n",
       "       'Filter.ly', 'Fit Analytics', 'FITIQUETTE', 'Fluid HTML',\n",
       "       'Fog Creek Software', 'Fogo Digital', 'Foretuit', 'Fotonauts',\n",
       "       'GazoPa', 'Geotoko', 'GotStatus', 'Green Bits', 'Gripe',\n",
       "       'GunZoo.com', 'H2L', 'Hammer & Chisel', 'Happy Toy Machine',\n",
       "       'HealthCrew', 'HealthyWage', 'Hmmm', 'hownow', 'HuoHua Mobile',\n",
       "       'IAMNEWS', 'IMO', 'InsideDNA', 'InsideMaps', 'Insttant',\n",
       "       'Integreight', 'Intelligent Flying Machines', 'iThryv',\n",
       "       'Japet Medical Devices', 'Karizma', 'keenkong', 'Kerpoof',\n",
       "       'Kinobi', 'KurbKarma', 'Kwoller', 'Laugh Radio', 'Levebee',\n",
       "       'Lissn', 'Live Matrix', 'LiveHit', 'LocalHero Inc.', 'Lock8',\n",
       "       'LookSee Labs Inc', 'Madbrook', 'Matibabu', 'Me-trics', 'Meexo',\n",
       "       'Meporter', 'Meritful', 'Metricly', 'mFluiDx', 'MicroBlink',\n",
       "       'Mimi Hearing Technologies GmbH', 'Mink', 'Minor Studios',\n",
       "       'Mirth Corp', 'MIXTT', 'Mobclix', 'MobilePayUSA', 'Money Intel',\n",
       "       'MotherKnows', 'Munro Electric Vehicle', 'NapTime', 'Next Caller',\n",
       "       'NextGoals', 'Notivo', 'Nucleus Scientific', 'Open as App',\n",
       "       'Orgoo', 'Overnest, Inc.', 'Pangea', 'Pathmapp', 'PatternEQ Inc.',\n",
       "       'Penn & Teller', 'Perpetually', 'PERSONALRIA', 'Plantly', 'plaYce',\n",
       "       'Popego', 'Postbox', 'Questli', 'QuickFire Networks', 'Radiusly',\n",
       "       'RefMob', 'Rentlord', 'Richi', 'Rinen', 'Saya', 'sciencebite',\n",
       "       'Scrumpt', 'Sealtale', 'Sedicii', 'Sentry Scientific',\n",
       "       'SeqCentral', 'Shape', 'SHL Telemedicine', 'Shufflehub',\n",
       "       'Simply Grid', 'SizeUp', 'Slides', 'SmartyPans', 'Smoretgage',\n",
       "       'SnapDragon', 'Social Stock', 'Socialwok', 'Sonar', 'SOP Notify',\n",
       "       'Spacebar', 'Spenz', 'Spincle', 'Spott', 'Sprowtt Marketplace',\n",
       "       'Stack Lighting', 'StandWith', 'Stepcase', 'Storysomething',\n",
       "       'Stratio', 'StudyHall', 'StudyRoom', 'Sumazi', 'Supplizer',\n",
       "       'Switchmate', 'Talk to IO', 'Talkz', 'The Whuffie Bank',\n",
       "       'TheSwop.com', 'ThriftDB', 'Tickreel', 'ToonsTunes', 'Tovbot',\n",
       "       'ToyBots', 'Trace', 'Traction', 'TRAIL', 'Trollim', 'Undrip',\n",
       "       'Ungeo', 'UnifyID', 'UnitedStyles', 'UpScored', 'UQ Life',\n",
       "       'Vantage Robotics', 'VIDA', 'voicesphere', 'WakaTime', 'Weotta',\n",
       "       'What Now Travel', 'Wixi', 'YOOBIC', 'YourVersion', 'Yuwan',\n",
       "       'ZAP!', 'Zello'], dtype=object)"
      ]
     },
     "execution_count": 7,
     "metadata": {},
     "output_type": "execute_result"
    }
   ],
   "source": [
    "null=pd.isnull(nData)\n",
    "null=null[null['Funding']==True]\n",
    "null.index.values"
   ]
  },
  {
   "cell_type": "markdown",
   "metadata": {},
   "source": [
    "# \n",
    "    Rows with Null value in Event attribte"
   ]
  },
  {
   "cell_type": "code",
   "execution_count": 8,
   "metadata": {},
   "outputs": [
    {
     "data": {
      "text/html": [
       "<div>\n",
       "<style scoped>\n",
       "    .dataframe tbody tr th:only-of-type {\n",
       "        vertical-align: middle;\n",
       "    }\n",
       "\n",
       "    .dataframe tbody tr th {\n",
       "        vertical-align: top;\n",
       "    }\n",
       "\n",
       "    .dataframe thead th {\n",
       "        text-align: right;\n",
       "    }\n",
       "</style>\n",
       "<table border=\"1\" class=\"dataframe\">\n",
       "  <thead>\n",
       "    <tr style=\"text-align: right;\">\n",
       "      <th></th>\n",
       "      <th>Product</th>\n",
       "      <th>Funding</th>\n",
       "      <th>Event</th>\n",
       "      <th>Result</th>\n",
       "      <th>OperatingState</th>\n",
       "    </tr>\n",
       "    <tr>\n",
       "      <th>Startup</th>\n",
       "      <th></th>\n",
       "      <th></th>\n",
       "      <th></th>\n",
       "      <th></th>\n",
       "      <th></th>\n",
       "    </tr>\n",
       "  </thead>\n",
       "  <tbody>\n",
       "  </tbody>\n",
       "</table>\n",
       "</div>"
      ],
      "text/plain": [
       "Empty DataFrame\n",
       "Columns: [Product, Funding, Event, Result, OperatingState]\n",
       "Index: []"
      ]
     },
     "execution_count": 8,
     "metadata": {},
     "output_type": "execute_result"
    }
   ],
   "source": [
    "null=pd.isnull(nData)\n",
    "null=null[null['Event']==True]\n",
    "null"
   ]
  },
  {
   "cell_type": "markdown",
   "metadata": {},
   "source": [
    "     \n",
    "    Rows with Null value in Result attribte"
   ]
  },
  {
   "cell_type": "code",
   "execution_count": 9,
   "metadata": {},
   "outputs": [
    {
     "data": {
      "text/plain": [
       "array([], dtype=object)"
      ]
     },
     "execution_count": 9,
     "metadata": {},
     "output_type": "execute_result"
    }
   ],
   "source": [
    "null=pd.isnull(nData)\n",
    "null=null[null['Result']==True]\n",
    "null.index.values"
   ]
  },
  {
   "cell_type": "markdown",
   "metadata": {},
   "source": [
    "#   \n",
    "    Rows with Null value in OperatingState attribte"
   ]
  },
  {
   "cell_type": "code",
   "execution_count": 10,
   "metadata": {},
   "outputs": [
    {
     "data": {
      "text/plain": [
       "array([], dtype=int64)"
      ]
     },
     "execution_count": 10,
     "metadata": {},
     "output_type": "execute_result"
    }
   ],
   "source": [
    "null=pd.isnull(Data)\n",
    "null=null[null['OperatingState']==True]\n",
    "null.index.values"
   ]
  },
  {
   "cell_type": "markdown",
   "metadata": {},
   "source": [
    "# Data Preprocessing and Visalisation\n",
    "    Drop the null values"
   ]
  },
  {
   "cell_type": "code",
   "execution_count": 11,
   "metadata": {},
   "outputs": [],
   "source": [
    "MData=Data.dropna()\n",
    "MData.reset_index(drop=True, inplace=True)"
   ]
  },
  {
   "cell_type": "code",
   "execution_count": 12,
   "metadata": {},
   "outputs": [
    {
     "data": {
      "text/html": [
       "<div>\n",
       "<style scoped>\n",
       "    .dataframe tbody tr th:only-of-type {\n",
       "        vertical-align: middle;\n",
       "    }\n",
       "\n",
       "    .dataframe tbody tr th {\n",
       "        vertical-align: top;\n",
       "    }\n",
       "\n",
       "    .dataframe thead th {\n",
       "        text-align: right;\n",
       "    }\n",
       "</style>\n",
       "<table border=\"1\" class=\"dataframe\">\n",
       "  <thead>\n",
       "    <tr style=\"text-align: right;\">\n",
       "      <th></th>\n",
       "      <th>Startup</th>\n",
       "      <th>Product</th>\n",
       "      <th>Funding</th>\n",
       "      <th>Event</th>\n",
       "      <th>Result</th>\n",
       "      <th>OperatingState</th>\n",
       "    </tr>\n",
       "  </thead>\n",
       "  <tbody>\n",
       "    <tr>\n",
       "      <th>0</th>\n",
       "      <td>3DLT</td>\n",
       "      <td>3dlt.com</td>\n",
       "      <td>630000</td>\n",
       "      <td>Disrupt NYC 2013</td>\n",
       "      <td>Contestant</td>\n",
       "      <td>Closed</td>\n",
       "    </tr>\n",
       "    <tr>\n",
       "      <th>1</th>\n",
       "      <td>3Dprintler</td>\n",
       "      <td>3dprintler.com</td>\n",
       "      <td>1000000</td>\n",
       "      <td>Disrupt NY 2016</td>\n",
       "      <td>Audience choice</td>\n",
       "      <td>Operating</td>\n",
       "    </tr>\n",
       "    <tr>\n",
       "      <th>2</th>\n",
       "      <td>5to1</td>\n",
       "      <td>5to1.com</td>\n",
       "      <td>19300000</td>\n",
       "      <td>TC50 2009</td>\n",
       "      <td>Contestant</td>\n",
       "      <td>Acquired</td>\n",
       "    </tr>\n",
       "    <tr>\n",
       "      <th>3</th>\n",
       "      <td>8 Securities</td>\n",
       "      <td>8securities.com</td>\n",
       "      <td>29000000</td>\n",
       "      <td>Disrupt Beijing 2011</td>\n",
       "      <td>Finalist</td>\n",
       "      <td>Operating</td>\n",
       "    </tr>\n",
       "    <tr>\n",
       "      <th>4</th>\n",
       "      <td>AdhereTech</td>\n",
       "      <td>adheretech.com</td>\n",
       "      <td>1800000</td>\n",
       "      <td>Hardware Battlefield 2014</td>\n",
       "      <td>Contestant</td>\n",
       "      <td>Operating</td>\n",
       "    </tr>\n",
       "    <tr>\n",
       "      <th>...</th>\n",
       "      <td>...</td>\n",
       "      <td>...</td>\n",
       "      <td>...</td>\n",
       "      <td>...</td>\n",
       "      <td>...</td>\n",
       "      <td>...</td>\n",
       "    </tr>\n",
       "    <tr>\n",
       "      <th>441</th>\n",
       "      <td>Zivity</td>\n",
       "      <td>zivity.com</td>\n",
       "      <td>8000000</td>\n",
       "      <td>TC40 2007</td>\n",
       "      <td>Contestant</td>\n",
       "      <td>Operating</td>\n",
       "    </tr>\n",
       "    <tr>\n",
       "      <th>442</th>\n",
       "      <td>Zmorph</td>\n",
       "      <td>zmorph3d.com</td>\n",
       "      <td>1000000</td>\n",
       "      <td>-</td>\n",
       "      <td>Audience choice</td>\n",
       "      <td>Operating</td>\n",
       "    </tr>\n",
       "    <tr>\n",
       "      <th>443</th>\n",
       "      <td>Zocdoc</td>\n",
       "      <td>zocdoc.com</td>\n",
       "      <td>223000000</td>\n",
       "      <td>TC40 2007</td>\n",
       "      <td>Contestant</td>\n",
       "      <td>Operating</td>\n",
       "    </tr>\n",
       "    <tr>\n",
       "      <th>444</th>\n",
       "      <td>Zula</td>\n",
       "      <td>zulaapp.com</td>\n",
       "      <td>3400000</td>\n",
       "      <td>Disrupt SF 2013</td>\n",
       "      <td>Audience choice</td>\n",
       "      <td>Operating</td>\n",
       "    </tr>\n",
       "    <tr>\n",
       "      <th>445</th>\n",
       "      <td>Zumper</td>\n",
       "      <td>zumper.com</td>\n",
       "      <td>31500000</td>\n",
       "      <td>Disrupt SF 2012</td>\n",
       "      <td>Finalist</td>\n",
       "      <td>Operating</td>\n",
       "    </tr>\n",
       "  </tbody>\n",
       "</table>\n",
       "<p>446 rows × 6 columns</p>\n",
       "</div>"
      ],
      "text/plain": [
       "          Startup          Product    Funding                      Event  \\\n",
       "0            3DLT         3dlt.com     630000           Disrupt NYC 2013   \n",
       "1      3Dprintler   3dprintler.com    1000000            Disrupt NY 2016   \n",
       "2            5to1         5to1.com   19300000                  TC50 2009   \n",
       "3    8 Securities  8securities.com   29000000       Disrupt Beijing 2011   \n",
       "4      AdhereTech   adheretech.com    1800000  Hardware Battlefield 2014   \n",
       "..            ...              ...        ...                        ...   \n",
       "441        Zivity       zivity.com    8000000                  TC40 2007   \n",
       "442        Zmorph     zmorph3d.com    1000000                          -   \n",
       "443        Zocdoc       zocdoc.com  223000000                  TC40 2007   \n",
       "444          Zula      zulaapp.com    3400000            Disrupt SF 2013   \n",
       "445        Zumper       zumper.com   31500000            Disrupt SF 2012   \n",
       "\n",
       "              Result OperatingState  \n",
       "0         Contestant         Closed  \n",
       "1    Audience choice      Operating  \n",
       "2         Contestant       Acquired  \n",
       "3           Finalist      Operating  \n",
       "4         Contestant      Operating  \n",
       "..               ...            ...  \n",
       "441       Contestant      Operating  \n",
       "442  Audience choice      Operating  \n",
       "443       Contestant      Operating  \n",
       "444  Audience choice      Operating  \n",
       "445         Finalist      Operating  \n",
       "\n",
       "[446 rows x 6 columns]"
      ]
     },
     "execution_count": 12,
     "metadata": {},
     "output_type": "execute_result"
    }
   ],
   "source": [
    "MData[\"Funding\"]= MData[\"Funding\"].str.replace(\"$\", \"\")\n",
    "MData[\"Funding\"]=MData['Funding'].replace({'K': '*1e3', 'M': '*1e6','B':'*1e9'}, regex=True).map(pd.eval).astype(int)\n",
    "MData"
   ]
  },
  {
   "cell_type": "markdown",
   "metadata": {},
   "source": [
    "# \n",
    "Plot Box plot for funds in million "
   ]
  },
  {
   "cell_type": "code",
   "execution_count": 13,
   "metadata": {},
   "outputs": [
    {
     "data": {
      "image/png": "[encoded data removed]",
      "text/plain": [
       "<Figure size 432x288 with 1 Axes>"
      ]
     },
     "metadata": {
      "needs_background": "light"
     },
     "output_type": "display_data"
    }
   ],
   "source": [
    "milMData = MData.copy(deep=True)\n",
    "milMData['Funding']=milMData['Funding'].apply(lambda x: x /1000000)\n",
    "milMData\n",
    "sns.boxplot(milMData['Funding'],);"
   ]
  },
  {
   "cell_type": "code",
   "execution_count": 14,
   "metadata": {},
   "outputs": [
    {
     "data": {
      "image/png": "[encoded data removed]",
      "text/plain": [
       "<Figure size 432x288 with 1 Axes>"
      ]
     },
     "metadata": {
      "needs_background": "light"
     },
     "output_type": "display_data"
    }
   ],
   "source": [
    "logMData = MData.copy(deep=True)\n",
    "logMData['Funding']=logMData['Funding'].apply(lambda x: np.log(x))\n",
    "logMData\n",
    "sns.boxplot(logMData['Funding'],logMData['Event']);"
   ]
  },
  {
   "cell_type": "code",
   "execution_count": 15,
   "metadata": {
    "scrolled": true
   },
   "outputs": [
    {
     "data": {
      "image/png": "[encoded data removed]",
      "text/plain": [
       "<Figure size 432x288 with 1 Axes>"
      ]
     },
     "metadata": {
      "needs_background": "light"
     },
     "output_type": "display_data"
    }
   ],
   "source": [
    "sns.boxplot(logMData['Funding']);"
   ]
  },
  {
   "cell_type": "markdown",
   "metadata": {},
   "source": [
    "\n",
    "Get the Lower fence from the box plot"
   ]
  },
  {
   "cell_type": "code",
   "execution_count": 16,
   "metadata": {},
   "outputs": [
    {
     "data": {
      "text/plain": [
       "(-12349375.0, 22569625.0)"
      ]
     },
     "execution_count": 16,
     "metadata": {},
     "output_type": "execute_result"
    }
   ],
   "source": [
    "q1=MData[\"Funding\"].quantile(0.25)\n",
    "q3=MData[\"Funding\"].quantile(0.75)\n",
    "IQR = q3-q1\n",
    "lower_fence=q1-(1.5*IQR)\n",
    "upper_fence=q3+(1.5*IQR)\n",
    "lower_fence,upper_fence"
   ]
  },
  {
   "cell_type": "markdown",
   "metadata": {},
   "source": [
    "# \n",
    "Check number of outliers greater than upper fence."
   ]
  },
  {
   "cell_type": "code",
   "execution_count": 17,
   "metadata": {},
   "outputs": [
    {
     "name": "stdout",
     "output_type": "stream",
     "text": [
      "number of outliers\n"
     ]
    },
    {
     "data": {
      "text/plain": [
       "60"
      ]
     },
     "execution_count": 17,
     "metadata": {},
     "output_type": "execute_result"
    }
   ],
   "source": [
    "Funding=MData[\"Funding\"].values\n",
    "count=0\n",
    "i=MData[\"Funding\"].shape[0]-1\n",
    "while i:\n",
    "    if Funding[i]>upper_fence:\n",
    "        count=count+1\n",
    "    i=i-1\n",
    "\n",
    "print(\"number of outliers\")\n",
    "count"
   ]
  },
  {
   "cell_type": "markdown",
   "metadata": {},
   "source": [
    "# \n",
    "    Drop values greater than upper fence"
   ]
  },
  {
   "cell_type": "code",
   "execution_count": 18,
   "metadata": {},
   "outputs": [],
   "source": [
    "aMData=MData.to_numpy()"
   ]
  },
  {
   "cell_type": "code",
   "execution_count": 19,
   "metadata": {},
   "outputs": [],
   "source": [
    "i=MData[\"Funding\"].shape[0]-1\n",
    "while i:\n",
    "    if aMData[[i],[2]]>upper_fence:\n",
    "        ind=MData.iloc[[i],[1]].index\n",
    "        MData=MData.drop(index=i,axis=0)\n",
    "        \n",
    "    i=i-1"
   ]
  },
  {
   "cell_type": "code",
   "execution_count": 20,
   "metadata": {},
   "outputs": [
    {
     "data": {
      "text/html": [
       "<div>\n",
       "<style scoped>\n",
       "    .dataframe tbody tr th:only-of-type {\n",
       "        vertical-align: middle;\n",
       "    }\n",
       "\n",
       "    .dataframe tbody tr th {\n",
       "        vertical-align: top;\n",
       "    }\n",
       "\n",
       "    .dataframe thead th {\n",
       "        text-align: right;\n",
       "    }\n",
       "</style>\n",
       "<table border=\"1\" class=\"dataframe\">\n",
       "  <thead>\n",
       "    <tr style=\"text-align: right;\">\n",
       "      <th></th>\n",
       "      <th>Startup</th>\n",
       "      <th>Product</th>\n",
       "      <th>Funding</th>\n",
       "      <th>Event</th>\n",
       "      <th>Result</th>\n",
       "      <th>OperatingState</th>\n",
       "    </tr>\n",
       "  </thead>\n",
       "  <tbody>\n",
       "    <tr>\n",
       "      <th>0</th>\n",
       "      <td>3DLT</td>\n",
       "      <td>3dlt.com</td>\n",
       "      <td>630000</td>\n",
       "      <td>Disrupt NYC 2013</td>\n",
       "      <td>Contestant</td>\n",
       "      <td>Closed</td>\n",
       "    </tr>\n",
       "    <tr>\n",
       "      <th>1</th>\n",
       "      <td>3Dprintler</td>\n",
       "      <td>3dprintler.com</td>\n",
       "      <td>1000000</td>\n",
       "      <td>Disrupt NY 2016</td>\n",
       "      <td>Audience choice</td>\n",
       "      <td>Operating</td>\n",
       "    </tr>\n",
       "    <tr>\n",
       "      <th>2</th>\n",
       "      <td>5to1</td>\n",
       "      <td>5to1.com</td>\n",
       "      <td>19300000</td>\n",
       "      <td>TC50 2009</td>\n",
       "      <td>Contestant</td>\n",
       "      <td>Acquired</td>\n",
       "    </tr>\n",
       "    <tr>\n",
       "      <th>4</th>\n",
       "      <td>AdhereTech</td>\n",
       "      <td>adheretech.com</td>\n",
       "      <td>1800000</td>\n",
       "      <td>Hardware Battlefield 2014</td>\n",
       "      <td>Contestant</td>\n",
       "      <td>Operating</td>\n",
       "    </tr>\n",
       "    <tr>\n",
       "      <th>5</th>\n",
       "      <td>AdRocket</td>\n",
       "      <td>adrocket.com</td>\n",
       "      <td>1000000</td>\n",
       "      <td>TC50 2008</td>\n",
       "      <td>Contestant</td>\n",
       "      <td>Closed</td>\n",
       "    </tr>\n",
       "    <tr>\n",
       "      <th>...</th>\n",
       "      <td>...</td>\n",
       "      <td>...</td>\n",
       "      <td>...</td>\n",
       "      <td>...</td>\n",
       "      <td>...</td>\n",
       "      <td>...</td>\n",
       "    </tr>\n",
       "    <tr>\n",
       "      <th>434</th>\n",
       "      <td>Yap</td>\n",
       "      <td>yapme.com</td>\n",
       "      <td>10000000</td>\n",
       "      <td>TC40 2007</td>\n",
       "      <td>Contestant</td>\n",
       "      <td>Closed</td>\n",
       "    </tr>\n",
       "    <tr>\n",
       "      <th>435</th>\n",
       "      <td>YayPay Inc</td>\n",
       "      <td>yaypay.com</td>\n",
       "      <td>900000</td>\n",
       "      <td>Disrupt London 2015</td>\n",
       "      <td>Contestant</td>\n",
       "      <td>Operating</td>\n",
       "    </tr>\n",
       "    <tr>\n",
       "      <th>441</th>\n",
       "      <td>Zivity</td>\n",
       "      <td>zivity.com</td>\n",
       "      <td>8000000</td>\n",
       "      <td>TC40 2007</td>\n",
       "      <td>Contestant</td>\n",
       "      <td>Operating</td>\n",
       "    </tr>\n",
       "    <tr>\n",
       "      <th>442</th>\n",
       "      <td>Zmorph</td>\n",
       "      <td>zmorph3d.com</td>\n",
       "      <td>1000000</td>\n",
       "      <td>-</td>\n",
       "      <td>Audience choice</td>\n",
       "      <td>Operating</td>\n",
       "    </tr>\n",
       "    <tr>\n",
       "      <th>444</th>\n",
       "      <td>Zula</td>\n",
       "      <td>zulaapp.com</td>\n",
       "      <td>3400000</td>\n",
       "      <td>Disrupt SF 2013</td>\n",
       "      <td>Audience choice</td>\n",
       "      <td>Operating</td>\n",
       "    </tr>\n",
       "  </tbody>\n",
       "</table>\n",
       "<p>386 rows × 6 columns</p>\n",
       "</div>"
      ],
      "text/plain": [
       "        Startup         Product   Funding                      Event  \\\n",
       "0          3DLT        3dlt.com    630000           Disrupt NYC 2013   \n",
       "1    3Dprintler  3dprintler.com   1000000            Disrupt NY 2016   \n",
       "2          5to1        5to1.com  19300000                  TC50 2009   \n",
       "4    AdhereTech  adheretech.com   1800000  Hardware Battlefield 2014   \n",
       "5      AdRocket    adrocket.com   1000000                  TC50 2008   \n",
       "..          ...             ...       ...                        ...   \n",
       "434         Yap       yapme.com  10000000                  TC40 2007   \n",
       "435  YayPay Inc      yaypay.com    900000        Disrupt London 2015   \n",
       "441      Zivity      zivity.com   8000000                  TC40 2007   \n",
       "442      Zmorph    zmorph3d.com   1000000                          -   \n",
       "444        Zula     zulaapp.com   3400000            Disrupt SF 2013   \n",
       "\n",
       "              Result OperatingState  \n",
       "0         Contestant         Closed  \n",
       "1    Audience choice      Operating  \n",
       "2         Contestant       Acquired  \n",
       "4         Contestant      Operating  \n",
       "5         Contestant         Closed  \n",
       "..               ...            ...  \n",
       "434       Contestant         Closed  \n",
       "435       Contestant      Operating  \n",
       "441       Contestant      Operating  \n",
       "442  Audience choice      Operating  \n",
       "444  Audience choice      Operating  \n",
       "\n",
       "[386 rows x 6 columns]"
      ]
     },
     "execution_count": 20,
     "metadata": {},
     "output_type": "execute_result"
    }
   ],
   "source": [
    "MData"
   ]
  },
  {
   "cell_type": "code",
   "execution_count": 21,
   "metadata": {
    "scrolled": true
   },
   "outputs": [
    {
     "data": {
      "text/html": [
       "<div>\n",
       "<style scoped>\n",
       "    .dataframe tbody tr th:only-of-type {\n",
       "        vertical-align: middle;\n",
       "    }\n",
       "\n",
       "    .dataframe tbody tr th {\n",
       "        vertical-align: top;\n",
       "    }\n",
       "\n",
       "    .dataframe thead th {\n",
       "        text-align: right;\n",
       "    }\n",
       "</style>\n",
       "<table border=\"1\" class=\"dataframe\">\n",
       "  <thead>\n",
       "    <tr style=\"text-align: right;\">\n",
       "      <th></th>\n",
       "      <th>Startup</th>\n",
       "      <th>Product</th>\n",
       "      <th>Funding</th>\n",
       "      <th>Event</th>\n",
       "      <th>Result</th>\n",
       "      <th>OperatingState</th>\n",
       "    </tr>\n",
       "  </thead>\n",
       "  <tbody>\n",
       "    <tr>\n",
       "      <th>0</th>\n",
       "      <td>3DLT</td>\n",
       "      <td>3dlt.com</td>\n",
       "      <td>0.63</td>\n",
       "      <td>Disrupt NYC 2013</td>\n",
       "      <td>Contestant</td>\n",
       "      <td>Closed</td>\n",
       "    </tr>\n",
       "    <tr>\n",
       "      <th>1</th>\n",
       "      <td>3Dprintler</td>\n",
       "      <td>3dprintler.com</td>\n",
       "      <td>1.00</td>\n",
       "      <td>Disrupt NY 2016</td>\n",
       "      <td>Audience choice</td>\n",
       "      <td>Operating</td>\n",
       "    </tr>\n",
       "    <tr>\n",
       "      <th>2</th>\n",
       "      <td>5to1</td>\n",
       "      <td>5to1.com</td>\n",
       "      <td>19.30</td>\n",
       "      <td>TC50 2009</td>\n",
       "      <td>Contestant</td>\n",
       "      <td>Acquired</td>\n",
       "    </tr>\n",
       "    <tr>\n",
       "      <th>4</th>\n",
       "      <td>AdhereTech</td>\n",
       "      <td>adheretech.com</td>\n",
       "      <td>1.80</td>\n",
       "      <td>Hardware Battlefield 2014</td>\n",
       "      <td>Contestant</td>\n",
       "      <td>Operating</td>\n",
       "    </tr>\n",
       "    <tr>\n",
       "      <th>5</th>\n",
       "      <td>AdRocket</td>\n",
       "      <td>adrocket.com</td>\n",
       "      <td>1.00</td>\n",
       "      <td>TC50 2008</td>\n",
       "      <td>Contestant</td>\n",
       "      <td>Closed</td>\n",
       "    </tr>\n",
       "    <tr>\n",
       "      <th>...</th>\n",
       "      <td>...</td>\n",
       "      <td>...</td>\n",
       "      <td>...</td>\n",
       "      <td>...</td>\n",
       "      <td>...</td>\n",
       "      <td>...</td>\n",
       "    </tr>\n",
       "    <tr>\n",
       "      <th>434</th>\n",
       "      <td>Yap</td>\n",
       "      <td>yapme.com</td>\n",
       "      <td>10.00</td>\n",
       "      <td>TC40 2007</td>\n",
       "      <td>Contestant</td>\n",
       "      <td>Closed</td>\n",
       "    </tr>\n",
       "    <tr>\n",
       "      <th>435</th>\n",
       "      <td>YayPay Inc</td>\n",
       "      <td>yaypay.com</td>\n",
       "      <td>0.90</td>\n",
       "      <td>Disrupt London 2015</td>\n",
       "      <td>Contestant</td>\n",
       "      <td>Operating</td>\n",
       "    </tr>\n",
       "    <tr>\n",
       "      <th>441</th>\n",
       "      <td>Zivity</td>\n",
       "      <td>zivity.com</td>\n",
       "      <td>8.00</td>\n",
       "      <td>TC40 2007</td>\n",
       "      <td>Contestant</td>\n",
       "      <td>Operating</td>\n",
       "    </tr>\n",
       "    <tr>\n",
       "      <th>442</th>\n",
       "      <td>Zmorph</td>\n",
       "      <td>zmorph3d.com</td>\n",
       "      <td>1.00</td>\n",
       "      <td>-</td>\n",
       "      <td>Audience choice</td>\n",
       "      <td>Operating</td>\n",
       "    </tr>\n",
       "    <tr>\n",
       "      <th>444</th>\n",
       "      <td>Zula</td>\n",
       "      <td>zulaapp.com</td>\n",
       "      <td>3.40</td>\n",
       "      <td>Disrupt SF 2013</td>\n",
       "      <td>Audience choice</td>\n",
       "      <td>Operating</td>\n",
       "    </tr>\n",
       "  </tbody>\n",
       "</table>\n",
       "<p>386 rows × 6 columns</p>\n",
       "</div>"
      ],
      "text/plain": [
       "        Startup         Product  Funding                      Event  \\\n",
       "0          3DLT        3dlt.com     0.63           Disrupt NYC 2013   \n",
       "1    3Dprintler  3dprintler.com     1.00            Disrupt NY 2016   \n",
       "2          5to1        5to1.com    19.30                  TC50 2009   \n",
       "4    AdhereTech  adheretech.com     1.80  Hardware Battlefield 2014   \n",
       "5      AdRocket    adrocket.com     1.00                  TC50 2008   \n",
       "..          ...             ...      ...                        ...   \n",
       "434         Yap       yapme.com    10.00                  TC40 2007   \n",
       "435  YayPay Inc      yaypay.com     0.90        Disrupt London 2015   \n",
       "441      Zivity      zivity.com     8.00                  TC40 2007   \n",
       "442      Zmorph    zmorph3d.com     1.00                          -   \n",
       "444        Zula     zulaapp.com     3.40            Disrupt SF 2013   \n",
       "\n",
       "              Result OperatingState  \n",
       "0         Contestant         Closed  \n",
       "1    Audience choice      Operating  \n",
       "2         Contestant       Acquired  \n",
       "4         Contestant      Operating  \n",
       "5         Contestant         Closed  \n",
       "..               ...            ...  \n",
       "434       Contestant         Closed  \n",
       "435       Contestant      Operating  \n",
       "441       Contestant      Operating  \n",
       "442  Audience choice      Operating  \n",
       "444  Audience choice      Operating  \n",
       "\n",
       "[386 rows x 6 columns]"
      ]
     },
     "execution_count": 21,
     "metadata": {},
     "output_type": "execute_result"
    }
   ],
   "source": [
    "milMData = MData.copy(deep=True)\n",
    "milMData['Funding']=milMData['Funding'].apply(lambda x: x /1000000)\n",
    "milMData"
   ]
  },
  {
   "cell_type": "markdown",
   "metadata": {},
   "source": [
    "# \n",
    "Box Plot after dropping the values"
   ]
  },
  {
   "cell_type": "code",
   "execution_count": 22,
   "metadata": {},
   "outputs": [
    {
     "data": {
      "image/png": "[encoded data removed]",
      "text/plain": [
       "<Figure size 432x288 with 1 Axes>"
      ]
     },
     "metadata": {
      "needs_background": "light"
     },
     "output_type": "display_data"
    }
   ],
   "source": [
    "sns.boxplot(milMData['Funding'],);"
   ]
  },
  {
   "cell_type": "markdown",
   "metadata": {},
   "source": [
    "# \n",
    "    Frequency of OperatingState classes"
   ]
  },
  {
   "cell_type": "code",
   "execution_count": 23,
   "metadata": {},
   "outputs": [
    {
     "name": "stdout",
     "output_type": "stream",
     "text": [
      "Operating    275\n",
      "Closed        56\n",
      "Acquired      55\n",
      "Name: OperatingState, dtype: int64\n"
     ]
    }
   ],
   "source": [
    "print(MData['OperatingState'].value_counts())"
   ]
  },
  {
   "cell_type": "markdown",
   "metadata": {},
   "source": [
    "# \n",
    "    Plot Funds in Million"
   ]
  },
  {
   "cell_type": "code",
   "execution_count": 24,
   "metadata": {},
   "outputs": [
    {
     "data": {
      "text/plain": [
       "<seaborn.axisgrid.FacetGrid at 0x1489f15a130>"
      ]
     },
     "execution_count": 24,
     "metadata": {},
     "output_type": "execute_result"
    },
    {
     "data": {
      "image/png": "[encoded data removed]",
      "text/plain": [
       "<Figure size 360x360 with 1 Axes>"
      ]
     },
     "metadata": {
      "needs_background": "light"
     },
     "output_type": "display_data"
    }
   ],
   "source": [
    "sns.displot(data=milMData,x=\"Funding\",kde=True)"
   ]
  },
  {
   "cell_type": "markdown",
   "metadata": {},
   "source": [
    "\n",
    "    distribution plot for companies still operating and closed"
   ]
  },
  {
   "cell_type": "code",
   "execution_count": 25,
   "metadata": {},
   "outputs": [
    {
     "data": {
      "text/plain": [
       "<seaborn.axisgrid.FacetGrid at 0x1489f8f1b20>"
      ]
     },
     "execution_count": 25,
     "metadata": {},
     "output_type": "execute_result"
    },
    {
     "data": {
      "image/png": "[encoded data removed]",
      "text/plain": [
       "<Figure size 445.875x360 with 1 Axes>"
      ]
     },
     "metadata": {
      "needs_background": "light"
     },
     "output_type": "display_data"
    }
   ],
   "source": [
    "condition=[\"Closed\" , \"Operating\"]\n",
    "omilMData=milMData.loc[milMData['OperatingState'].isin(condition)]\n",
    "sns.displot(data=omilMData, x=\"Funding\", hue=\"OperatingState\", multiple=\"stack\")"
   ]
  },
  {
   "cell_type": "markdown",
   "metadata": {},
   "source": [
    "\n",
    "# Statistical Analysis"
   ]
  },
  {
   "cell_type": "markdown",
   "metadata": {},
   "source": [
    "# \n",
    "Is there any significant difference between Funds raised by companies that are still operating vs companies that closed down?\n",
    "Write the null hypothesis and alternative hypothesis.\n",
    "Test for significance and conclusion"
   ]
  },
  {
   "cell_type": "code",
   "execution_count": 26,
   "metadata": {},
   "outputs": [
    {
     "data": {
      "text/plain": [
       "0.04654998649785855"
      ]
     },
     "execution_count": 26,
     "metadata": {},
     "output_type": "execute_result"
    }
   ],
   "source": [
    "Operating=MData[MData['OperatingState']=='Operating']['Funding']\n",
    "Closed=MData[MData['OperatingState']=='Closed']['Funding']\n",
    "\n",
    "#Null Hypothesis\n",
    "# There is no significant difference between funds raised by Operating and Closed companies\n",
    "#Alternate Hypothesis \n",
    "#There is  significant difference between funds raised by Operating and Closed companies\n",
    "pvalue=mannwhitneyu(Operating,Closed)[1]\n",
    "pvalue"
   ]
  },
  {
   "cell_type": "code",
   "execution_count": 27,
   "metadata": {},
   "outputs": [
    {
     "name": "stdout",
     "output_type": "stream",
     "text": [
      "Null Hypothesis Rejected\n",
      "There is  significant difference between funds raised by Operating and Closed companies\n"
     ]
    }
   ],
   "source": [
    "if pvalue<0.05:\n",
    "    print(\"Null Hypothesis Rejected\")\n",
    "    print(\"There is  significant difference between funds raised by Operating and Closed companies\")\n",
    "else:\n",
    "    print(\"Failed to Reject Null Hypothesis\")\n",
    "    print(\"There is no  significant difference between funds raised by Operating and Closed companies\")"
   ]
  },
  {
   "cell_type": "markdown",
   "metadata": {},
   "source": [
    " \n",
    "    Make a copy of the original data frame."
   ]
  },
  {
   "cell_type": "code",
   "execution_count": 28,
   "metadata": {},
   "outputs": [],
   "source": [
    "Copy_Data=Data.copy(deep=True)"
   ]
  },
  {
   "cell_type": "markdown",
   "metadata": {},
   "source": [
    "# \n",
    "    Check frequency distribution of Result variable."
   ]
  },
  {
   "cell_type": "code",
   "execution_count": 29,
   "metadata": {},
   "outputs": [
    {
     "data": {
      "text/plain": [
       "<seaborn.axisgrid.FacetGrid at 0x1489f9cc1f0>"
      ]
     },
     "execution_count": 29,
     "metadata": {},
     "output_type": "execute_result"
    },
    {
     "data": {
      "image/png": "[encoded data removed]",
      "text/plain": [
       "<Figure size 478.125x360 with 1 Axes>"
      ]
     },
     "metadata": {
      "needs_background": "light"
     },
     "output_type": "display_data"
    }
   ],
   "source": [
    "sns.displot(MData, x=\"Funding\", hue=\"Result\", element=\"step\")"
   ]
  },
  {
   "cell_type": "markdown",
   "metadata": {},
   "source": [
    "# \n",
    "    Calculate percentage of winners that are still operating and percentage of contestants that are still operating"
   ]
  },
  {
   "cell_type": "code",
   "execution_count": 30,
   "metadata": {},
   "outputs": [
    {
     "name": "stdout",
     "output_type": "stream",
     "text": [
      "Percent of winners Operating=\n",
      "4.37956204379562\n",
      "Percent of Contestant Operating=\n",
      "70.8029197080292\n"
     ]
    }
   ],
   "source": [
    "Operating=MData[MData['OperatingState']=='Operating']['Result'].values\n",
    "WinnerOpcount=0\n",
    "ContestantOpcount=0\n",
    "i=Operating.shape[0]-1\n",
    "while i:\n",
    "    if Operating[i]=='Winner':\n",
    "        WinnerOpcount=WinnerOpcount+1\n",
    "    if Operating[i]=='Contestant':\n",
    "        ContestantOpcount=ContestantOpcount+1\n",
    "    i=i-1\n",
    "print(\"Percent of winners Operating=\")\n",
    "print((WinnerOpcount*100)/(Operating.shape[0]-1))\n",
    "print(\"Percent of Contestant Operating=\")\n",
    "print((ContestantOpcount*100)/(Operating.shape[0]-1))\n",
    "Operating=MData[MData['OperatingState']=='Operating']['Result']"
   ]
  },
  {
   "cell_type": "markdown",
   "metadata": {},
   "source": [
    "# \n",
    "    Write your hypothesis comparing the proportion of companies that are operating between winners and contestants:\n",
    "Write the null hypothesis and alternative hypothesis.\n",
    "Test for significance and conclusion"
   ]
  },
  {
   "cell_type": "code",
   "execution_count": 31,
   "metadata": {},
   "outputs": [
    {
     "name": "stdout",
     "output_type": "stream",
     "text": [
      "Null Hypothesis Rejected\n",
      "There is  significant difference between funds raised by Operating and Closed companies\n"
     ]
    }
   ],
   "source": [
    "Winner=MData[MData['Result']=='Winner']['Funding'].values\n",
    "Contestant=MData[MData['Result']=='Contestant']['Funding'].values\n",
    "\n",
    "#Null Hypothesis\n",
    "# There is no significant difference between companies Operating between winners and contestants \n",
    "#Alternate Hypothesis \n",
    "#There is  significant difference between companies Operating between winners and contestants \n",
    "pvalue=mannwhitneyu(Winner,Contestant)[1]\n",
    "\n",
    "if pvalue<0.05:\n",
    "    print(\"Null Hypothesis Rejected\")\n",
    "    print(\"There is  significant difference between funds raised by Operating and Closed companies\")\n",
    "else:\n",
    "    print(\"Failed to Reject Null Hypothesis\")\n",
    "    print(\"There is no  significant difference between funds raised by Operating and Closed companies\")"
   ]
  },
  {
   "cell_type": "markdown",
   "metadata": {},
   "source": [
    "\n",
    "    Check distribution of the Event variable"
   ]
  },
  {
   "cell_type": "code",
   "execution_count": 32,
   "metadata": {},
   "outputs": [
    {
     "data": {
      "text/plain": [
       "TC50 2008                    25\n",
       "TC40 2007                    22\n",
       "Disrupt NY 2015              21\n",
       "Disrupt SF 2011              19\n",
       "Disrupt NYC 2013             19\n",
       "Disrupt NYC 2012             19\n",
       "Disrupt SF 2014              19\n",
       "Disrupt SF 2013              19\n",
       "Disrupt SF 2015              19\n",
       "TC50 2009                    19\n",
       "Disrupt SF 2016              17\n",
       "Disrupt NY 2016              16\n",
       "Disrupt NYC 2011             15\n",
       "Disrupt SF 2012              15\n",
       "Disrupt NYC 2014             15\n",
       "Disrupt SF 2010              13\n",
       "Hardware Battlefield 2016    12\n",
       "Hardware Battlefield 2014    12\n",
       "Disrupt London 2015          11\n",
       "Disrupt EU 2014              10\n",
       "Hardware Battlefield 2015    10\n",
       "Disrupt NYC 2010             10\n",
       "Disrupt London 2016          10\n",
       "Disrupt EU 2013               9\n",
       "-                             6\n",
       "Disrupt Beijing 2011          4\n",
       "Name: Event, dtype: int64"
      ]
     },
     "execution_count": 32,
     "metadata": {},
     "output_type": "execute_result"
    }
   ],
   "source": [
    "MData['Event'].value_counts() "
   ]
  },
  {
   "cell_type": "markdown",
   "metadata": {},
   "source": [
    "# \n",
    "• Select only the Event that has disrupt keyword from 2013 onwards."
   ]
  },
  {
   "cell_type": "code",
   "execution_count": 33,
   "metadata": {},
   "outputs": [
    {
     "data": {
      "text/html": [
       "<div>\n",
       "<style scoped>\n",
       "    .dataframe tbody tr th:only-of-type {\n",
       "        vertical-align: middle;\n",
       "    }\n",
       "\n",
       "    .dataframe tbody tr th {\n",
       "        vertical-align: top;\n",
       "    }\n",
       "\n",
       "    .dataframe thead th {\n",
       "        text-align: right;\n",
       "    }\n",
       "</style>\n",
       "<table border=\"1\" class=\"dataframe\">\n",
       "  <thead>\n",
       "    <tr style=\"text-align: right;\">\n",
       "      <th></th>\n",
       "      <th>Startup</th>\n",
       "      <th>Product</th>\n",
       "      <th>Funding</th>\n",
       "      <th>Event</th>\n",
       "      <th>Result</th>\n",
       "      <th>OperatingState</th>\n",
       "    </tr>\n",
       "  </thead>\n",
       "  <tbody>\n",
       "    <tr>\n",
       "      <th>0</th>\n",
       "      <td>3DLT</td>\n",
       "      <td>3dlt.com</td>\n",
       "      <td>630000</td>\n",
       "      <td>Disrupt NYC 2013</td>\n",
       "      <td>Contestant</td>\n",
       "      <td>Closed</td>\n",
       "    </tr>\n",
       "    <tr>\n",
       "      <th>1</th>\n",
       "      <td>3Dprintler</td>\n",
       "      <td>3dprintler.com</td>\n",
       "      <td>1000000</td>\n",
       "      <td>Disrupt NY 2016</td>\n",
       "      <td>Audience choice</td>\n",
       "      <td>Operating</td>\n",
       "    </tr>\n",
       "    <tr>\n",
       "      <th>4</th>\n",
       "      <td>AdhereTech</td>\n",
       "      <td>adheretech.com</td>\n",
       "      <td>1800000</td>\n",
       "      <td>Hardware Battlefield 2014</td>\n",
       "      <td>Contestant</td>\n",
       "      <td>Operating</td>\n",
       "    </tr>\n",
       "    <tr>\n",
       "      <th>6</th>\n",
       "      <td>Agrilyst</td>\n",
       "      <td>agrilyst.com</td>\n",
       "      <td>1000000</td>\n",
       "      <td>Disrupt SF 2015</td>\n",
       "      <td>Winner</td>\n",
       "      <td>Operating</td>\n",
       "    </tr>\n",
       "    <tr>\n",
       "      <th>7</th>\n",
       "      <td>Aiden</td>\n",
       "      <td>aiden.ai</td>\n",
       "      <td>750000</td>\n",
       "      <td>Disrupt London 2016</td>\n",
       "      <td>Contestant</td>\n",
       "      <td>Operating</td>\n",
       "    </tr>\n",
       "    <tr>\n",
       "      <th>...</th>\n",
       "      <td>...</td>\n",
       "      <td>...</td>\n",
       "      <td>...</td>\n",
       "      <td>...</td>\n",
       "      <td>...</td>\n",
       "      <td>...</td>\n",
       "    </tr>\n",
       "    <tr>\n",
       "      <th>428</th>\n",
       "      <td>Wiivv</td>\n",
       "      <td>wiivv.com</td>\n",
       "      <td>12200000</td>\n",
       "      <td>Hardware Battlefield 2016</td>\n",
       "      <td>Runner up</td>\n",
       "      <td>Operating</td>\n",
       "    </tr>\n",
       "    <tr>\n",
       "      <th>430</th>\n",
       "      <td>Workspot</td>\n",
       "      <td>workspot.com</td>\n",
       "      <td>15800000</td>\n",
       "      <td>Disrupt NYC 2013</td>\n",
       "      <td>Contestant</td>\n",
       "      <td>Operating</td>\n",
       "    </tr>\n",
       "    <tr>\n",
       "      <th>431</th>\n",
       "      <td>Xendo</td>\n",
       "      <td>xendo.com</td>\n",
       "      <td>28000</td>\n",
       "      <td>Disrupt SF 2014</td>\n",
       "      <td>Contestant</td>\n",
       "      <td>Acquired</td>\n",
       "    </tr>\n",
       "    <tr>\n",
       "      <th>435</th>\n",
       "      <td>YayPay Inc</td>\n",
       "      <td>yaypay.com</td>\n",
       "      <td>900000</td>\n",
       "      <td>Disrupt London 2015</td>\n",
       "      <td>Contestant</td>\n",
       "      <td>Operating</td>\n",
       "    </tr>\n",
       "    <tr>\n",
       "      <th>444</th>\n",
       "      <td>Zula</td>\n",
       "      <td>zulaapp.com</td>\n",
       "      <td>3400000</td>\n",
       "      <td>Disrupt SF 2013</td>\n",
       "      <td>Audience choice</td>\n",
       "      <td>Operating</td>\n",
       "    </tr>\n",
       "  </tbody>\n",
       "</table>\n",
       "<p>219 rows × 6 columns</p>\n",
       "</div>"
      ],
      "text/plain": [
       "        Startup         Product   Funding                      Event  \\\n",
       "0          3DLT        3dlt.com    630000           Disrupt NYC 2013   \n",
       "1    3Dprintler  3dprintler.com   1000000            Disrupt NY 2016   \n",
       "4    AdhereTech  adheretech.com   1800000  Hardware Battlefield 2014   \n",
       "6      Agrilyst    agrilyst.com   1000000            Disrupt SF 2015   \n",
       "7         Aiden        aiden.ai    750000        Disrupt London 2016   \n",
       "..          ...             ...       ...                        ...   \n",
       "428       Wiivv       wiivv.com  12200000  Hardware Battlefield 2016   \n",
       "430    Workspot    workspot.com  15800000           Disrupt NYC 2013   \n",
       "431       Xendo       xendo.com     28000            Disrupt SF 2014   \n",
       "435  YayPay Inc      yaypay.com    900000        Disrupt London 2015   \n",
       "444        Zula     zulaapp.com   3400000            Disrupt SF 2013   \n",
       "\n",
       "              Result OperatingState  \n",
       "0         Contestant         Closed  \n",
       "1    Audience choice      Operating  \n",
       "4         Contestant      Operating  \n",
       "6             Winner      Operating  \n",
       "7         Contestant      Operating  \n",
       "..               ...            ...  \n",
       "428        Runner up      Operating  \n",
       "430       Contestant      Operating  \n",
       "431       Contestant       Acquired  \n",
       "435       Contestant      Operating  \n",
       "444  Audience choice      Operating  \n",
       "\n",
       "[219 rows x 6 columns]"
      ]
     },
     "execution_count": 33,
     "metadata": {},
     "output_type": "execute_result"
    }
   ],
   "source": [
    "OnMData=MData[MData['Event'].str.contains('2013|2014|2015|2016',regex=True)]\n",
    "OnMData"
   ]
  },
  {
   "cell_type": "markdown",
   "metadata": {},
   "source": [
    "# \n",
    "    Write and perform your hypothesis along with significance test comparing the funds raised by companies across NY, SF and EU events from 2013 onwards."
   ]
  },
  {
   "cell_type": "code",
   "execution_count": 34,
   "metadata": {},
   "outputs": [
    {
     "name": "stdout",
     "output_type": "stream",
     "text": [
      "There is no  significant difference between funds raised during EU and NY events 2013 onwards\n",
      "There is no  significant difference between funds raised during SF and NY events 2013 onwards\n",
      "There is no  significant difference between funds raised during SF and EU events 2013 onwards\n"
     ]
    }
   ],
   "source": [
    "ConNYOnMData=OnMData[OnMData['Event'].str.contains('NY',regex=True)]\n",
    "ConEUOnMData=OnMData[OnMData['Event'].str.contains('EU',regex=True)]\n",
    "ConSFOnMData=OnMData[OnMData['Event'].str.contains('SF',regex=True)]\n",
    "FConEUOnMData=ConEUOnMData['Funding']\n",
    "FConNYOnMData=ConNYOnMData['Funding']\n",
    "FConSFOnMData=ConSFOnMData['Funding']\n",
    "\n",
    "#Null Hypothesis\n",
    "# There is no significant difference between funds raised by Operating and Closed companies\n",
    "#Alternate Hypothesis \n",
    "#There is  significant difference between funds raised by Operating and Closed companies\n",
    "pvalue1=mannwhitneyu(FConEUOnMData,FConNYOnMData)[1]\n",
    "pvalue2=mannwhitneyu(FConSFOnMData,FConNYOnMData)[1]\n",
    "pvalue3=mannwhitneyu(FConSFOnMData,FConEUOnMData)[1]\n",
    "if pvalue1<0.05:\n",
    "    print(\"There is  significant difference between funds raised during EU and NY events 2013 onwards\")\n",
    "if pvalue1>=0.05:\n",
    "    print(\"There is no  significant difference between funds raised during EU and NY events 2013 onwards\")\n",
    "if pvalue2<0.05:\n",
    "    print(\"There is  significant difference between funds raised during SF and NY events 2013 onwards\")\n",
    "if pvalue2>=0.05:\n",
    "    print(\"There is no  significant difference between funds raised during SF and NY events 2013 onwards\")\n",
    "if pvalue3<0.05:\n",
    "    print(\"There is  significant difference between funds raised during SF and EU events 2013 onwards\")\n",
    "if pvalue3>=0.05:\n",
    "    print(\"There is no  significant difference between funds raised during SF and EU events 2013 onwards\")\n"
   ]
  },
  {
   "cell_type": "markdown",
   "metadata": {},
   "source": [
    "# \n",
    "    Plot the distribution plot comparing the 3 city events."
   ]
  },
  {
   "cell_type": "code",
   "execution_count": 35,
   "metadata": {},
   "outputs": [
    {
     "data": {
      "text/plain": [
       "<AxesSubplot:ylabel='Funds'>"
      ]
     },
     "execution_count": 35,
     "metadata": {},
     "output_type": "execute_result"
    },
    {
     "data": {
      "image/png": "[encoded data removed]",
      "text/plain": [
       "<Figure size 432x288 with 1 Axes>"
      ]
     },
     "metadata": {
      "needs_background": "light"
     },
     "output_type": "display_data"
    }
   ],
   "source": [
    "EUsum=FConEUOnMData.sum()\n",
    "NYsum=FConNYOnMData.sum()\n",
    "SFsum=FConSFOnMData.sum()\n",
    "Sum=pd.DataFrame(np.array([[EUsum],[NYsum],[SFsum]]),index=['EU', 'NY', 'SF'],columns=['Funds'])\n",
    "sns.barplot( x=Sum.index,y=\"Funds\", data=Sum)"
   ]
  },
  {
   "cell_type": "markdown",
   "metadata": {},
   "source": [
    "# \n",
    "    \n",
    "   Write your observations on improvements or suggestions on quality, quantity, variety, velocity, veracity etc. on the data points collected to performa better data analysis."
   ]
  },
  {
   "cell_type": "markdown",
   "metadata": {},
   "source": [
    "# \n",
    " \n",
    " Increase in Quantity of data can help with more precise analysis and bell curve with better placement\n",
    "\n",
    "Increase in quality of data could have minimise the preprocessing measures and usage of log function. The presence of \n",
    "String inplace of integer in the Funding lead to more pre processing step hence more time complexity.\n",
    "\n",
    "Presence of Funding in integer could have helped with time complexity.\n",
    "\n",
    "Presence of null values eliminated the better precision of analysis."
   ]
  },
  {
   "cell_type": "code",
   "execution_count": null,
   "metadata": {},
   "outputs": [],
   "source": []
  }
 ],
 "metadata": {
  "kernelspec": {
   "display_name": "Python 3",
   "language": "python",
   "name": "python3"
  },
  "language_info": {
   "codemirror_mode": {
    "name": "ipython",
    "version": 3
   },
   "file_extension": ".py",
   "mimetype": "text/x-python",
   "name": "python",
   "nbconvert_exporter": "python",
   "pygments_lexer": "ipython3",
   "version": "3.8.5"
  }
 },
 "nbformat": 4,
 "nbformat_minor": 4
}
