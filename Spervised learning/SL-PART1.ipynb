{
 "cells": [
  {
   "cell_type": "markdown",
   "metadata": {},
   "source": [
    "# Import and warehouse data:"
   ]
  },
  {
   "cell_type": "code",
   "execution_count": 39,
   "metadata": {},
   "outputs": [],
   "source": [
    "import pandas as pd\n",
    "import numpy as np\n",
    "import matplotlib.pyplot as plt\n",
    "%matplotlib inline\n",
    "import seaborn as sns\n",
    "from scipy.stats import zscore\n",
    "import warnings\n",
    "warnings.filterwarnings('ignore')\n",
    "from sklearn.metrics import accuracy_score, confusion_matrix, classification_report\n",
    "from sklearn.metrics import precision_recall_fscore_support, mean_absolute_error\n"
   ]
  },
  {
   "cell_type": "code",
   "execution_count": 3,
   "metadata": {},
   "outputs": [],
   "source": [
    "df_Normal=pd.read_csv('Part1 - Normal.csv')\n",
    "df_TypeH=pd.read_csv('Part1 - Type_H.csv')\n",
    "df_TypeS=pd.read_csv('Part1 - Type_S.csv')"
   ]
  },
  {
   "cell_type": "code",
   "execution_count": 4,
   "metadata": {},
   "outputs": [
    {
     "name": "stdout",
     "output_type": "stream",
     "text": [
      "(100, 7)\n"
     ]
    },
    {
     "data": {
      "text/html": [
       "<div>\n",
       "<style scoped>\n",
       "    .dataframe tbody tr th:only-of-type {\n",
       "        vertical-align: middle;\n",
       "    }\n",
       "\n",
       "    .dataframe tbody tr th {\n",
       "        vertical-align: top;\n",
       "    }\n",
       "\n",
       "    .dataframe thead th {\n",
       "        text-align: right;\n",
       "    }\n",
       "</style>\n",
       "<table border=\"1\" class=\"dataframe\">\n",
       "  <thead>\n",
       "    <tr style=\"text-align: right;\">\n",
       "      <th></th>\n",
       "      <th>P_incidence</th>\n",
       "      <th>P_tilt</th>\n",
       "      <th>L_angle</th>\n",
       "      <th>S_slope</th>\n",
       "      <th>P_radius</th>\n",
       "      <th>S_Degree</th>\n",
       "      <th>Class</th>\n",
       "    </tr>\n",
       "  </thead>\n",
       "  <tbody>\n",
       "    <tr>\n",
       "      <th>0</th>\n",
       "      <td>38.505273</td>\n",
       "      <td>16.964297</td>\n",
       "      <td>35.112814</td>\n",
       "      <td>21.540976</td>\n",
       "      <td>127.632875</td>\n",
       "      <td>7.986683</td>\n",
       "      <td>Normal</td>\n",
       "    </tr>\n",
       "    <tr>\n",
       "      <th>1</th>\n",
       "      <td>54.920858</td>\n",
       "      <td>18.968430</td>\n",
       "      <td>51.601455</td>\n",
       "      <td>35.952428</td>\n",
       "      <td>125.846646</td>\n",
       "      <td>2.001642</td>\n",
       "      <td>Normal</td>\n",
       "    </tr>\n",
       "    <tr>\n",
       "      <th>2</th>\n",
       "      <td>44.362490</td>\n",
       "      <td>8.945435</td>\n",
       "      <td>46.902096</td>\n",
       "      <td>35.417055</td>\n",
       "      <td>129.220682</td>\n",
       "      <td>4.994195</td>\n",
       "      <td>Normal</td>\n",
       "    </tr>\n",
       "    <tr>\n",
       "      <th>3</th>\n",
       "      <td>48.318931</td>\n",
       "      <td>17.452121</td>\n",
       "      <td>48.000000</td>\n",
       "      <td>30.866809</td>\n",
       "      <td>128.980308</td>\n",
       "      <td>-0.910941</td>\n",
       "      <td>Normal</td>\n",
       "    </tr>\n",
       "    <tr>\n",
       "      <th>4</th>\n",
       "      <td>45.701789</td>\n",
       "      <td>10.659859</td>\n",
       "      <td>42.577846</td>\n",
       "      <td>35.041929</td>\n",
       "      <td>130.178314</td>\n",
       "      <td>-3.388910</td>\n",
       "      <td>Normal</td>\n",
       "    </tr>\n",
       "  </tbody>\n",
       "</table>\n",
       "</div>"
      ],
      "text/plain": [
       "   P_incidence     P_tilt    L_angle    S_slope    P_radius  S_Degree   Class\n",
       "0    38.505273  16.964297  35.112814  21.540976  127.632875  7.986683  Normal\n",
       "1    54.920858  18.968430  51.601455  35.952428  125.846646  2.001642  Normal\n",
       "2    44.362490   8.945435  46.902096  35.417055  129.220682  4.994195  Normal\n",
       "3    48.318931  17.452121  48.000000  30.866809  128.980308 -0.910941  Normal\n",
       "4    45.701789  10.659859  42.577846  35.041929  130.178314 -3.388910  Normal"
      ]
     },
     "execution_count": 4,
     "metadata": {},
     "output_type": "execute_result"
    }
   ],
   "source": [
    "print(df_Normal.shape)\n",
    "df_Normal.head()"
   ]
  },
  {
   "cell_type": "code",
   "execution_count": 5,
   "metadata": {},
   "outputs": [
    {
     "name": "stdout",
     "output_type": "stream",
     "text": [
      "(60, 7)\n"
     ]
    },
    {
     "data": {
      "text/html": [
       "<div>\n",
       "<style scoped>\n",
       "    .dataframe tbody tr th:only-of-type {\n",
       "        vertical-align: middle;\n",
       "    }\n",
       "\n",
       "    .dataframe tbody tr th {\n",
       "        vertical-align: top;\n",
       "    }\n",
       "\n",
       "    .dataframe thead th {\n",
       "        text-align: right;\n",
       "    }\n",
       "</style>\n",
       "<table border=\"1\" class=\"dataframe\">\n",
       "  <thead>\n",
       "    <tr style=\"text-align: right;\">\n",
       "      <th></th>\n",
       "      <th>P_incidence</th>\n",
       "      <th>P_tilt</th>\n",
       "      <th>L_angle</th>\n",
       "      <th>S_slope</th>\n",
       "      <th>P_radius</th>\n",
       "      <th>S_Degree</th>\n",
       "      <th>Class</th>\n",
       "    </tr>\n",
       "  </thead>\n",
       "  <tbody>\n",
       "    <tr>\n",
       "      <th>0</th>\n",
       "      <td>63.027818</td>\n",
       "      <td>22.552586</td>\n",
       "      <td>39.609117</td>\n",
       "      <td>40.475232</td>\n",
       "      <td>98.672917</td>\n",
       "      <td>-0.254400</td>\n",
       "      <td>Type_H</td>\n",
       "    </tr>\n",
       "    <tr>\n",
       "      <th>1</th>\n",
       "      <td>39.056951</td>\n",
       "      <td>10.060991</td>\n",
       "      <td>25.015378</td>\n",
       "      <td>28.995960</td>\n",
       "      <td>114.405425</td>\n",
       "      <td>4.564259</td>\n",
       "      <td>Type_H</td>\n",
       "    </tr>\n",
       "    <tr>\n",
       "      <th>2</th>\n",
       "      <td>68.832021</td>\n",
       "      <td>22.218482</td>\n",
       "      <td>50.092194</td>\n",
       "      <td>46.613539</td>\n",
       "      <td>105.985135</td>\n",
       "      <td>-3.530317</td>\n",
       "      <td>Type_H</td>\n",
       "    </tr>\n",
       "    <tr>\n",
       "      <th>3</th>\n",
       "      <td>69.297008</td>\n",
       "      <td>24.652878</td>\n",
       "      <td>44.311238</td>\n",
       "      <td>44.644130</td>\n",
       "      <td>101.868495</td>\n",
       "      <td>11.211523</td>\n",
       "      <td>Type_H</td>\n",
       "    </tr>\n",
       "    <tr>\n",
       "      <th>4</th>\n",
       "      <td>49.712859</td>\n",
       "      <td>9.652075</td>\n",
       "      <td>28.317406</td>\n",
       "      <td>40.060784</td>\n",
       "      <td>108.168725</td>\n",
       "      <td>7.918501</td>\n",
       "      <td>Type_H</td>\n",
       "    </tr>\n",
       "  </tbody>\n",
       "</table>\n",
       "</div>"
      ],
      "text/plain": [
       "   P_incidence     P_tilt    L_angle    S_slope    P_radius   S_Degree   Class\n",
       "0    63.027818  22.552586  39.609117  40.475232   98.672917  -0.254400  Type_H\n",
       "1    39.056951  10.060991  25.015378  28.995960  114.405425   4.564259  Type_H\n",
       "2    68.832021  22.218482  50.092194  46.613539  105.985135  -3.530317  Type_H\n",
       "3    69.297008  24.652878  44.311238  44.644130  101.868495  11.211523  Type_H\n",
       "4    49.712859   9.652075  28.317406  40.060784  108.168725   7.918501  Type_H"
      ]
     },
     "execution_count": 5,
     "metadata": {},
     "output_type": "execute_result"
    }
   ],
   "source": [
    "print(df_TypeH.shape)\n",
    "df_TypeH.head()"
   ]
  },
  {
   "cell_type": "code",
   "execution_count": 6,
   "metadata": {},
   "outputs": [
    {
     "name": "stdout",
     "output_type": "stream",
     "text": [
      "(150, 7)\n"
     ]
    },
    {
     "data": {
      "text/html": [
       "<div>\n",
       "<style scoped>\n",
       "    .dataframe tbody tr th:only-of-type {\n",
       "        vertical-align: middle;\n",
       "    }\n",
       "\n",
       "    .dataframe tbody tr th {\n",
       "        vertical-align: top;\n",
       "    }\n",
       "\n",
       "    .dataframe thead th {\n",
       "        text-align: right;\n",
       "    }\n",
       "</style>\n",
       "<table border=\"1\" class=\"dataframe\">\n",
       "  <thead>\n",
       "    <tr style=\"text-align: right;\">\n",
       "      <th></th>\n",
       "      <th>P_incidence</th>\n",
       "      <th>P_tilt</th>\n",
       "      <th>L_angle</th>\n",
       "      <th>S_slope</th>\n",
       "      <th>P_radius</th>\n",
       "      <th>S_Degree</th>\n",
       "      <th>Class</th>\n",
       "    </tr>\n",
       "  </thead>\n",
       "  <tbody>\n",
       "    <tr>\n",
       "      <th>0</th>\n",
       "      <td>74.377678</td>\n",
       "      <td>32.053104</td>\n",
       "      <td>78.772013</td>\n",
       "      <td>42.324573</td>\n",
       "      <td>143.560690</td>\n",
       "      <td>56.125906</td>\n",
       "      <td>Type_S</td>\n",
       "    </tr>\n",
       "    <tr>\n",
       "      <th>1</th>\n",
       "      <td>89.680567</td>\n",
       "      <td>32.704435</td>\n",
       "      <td>83.130732</td>\n",
       "      <td>56.976132</td>\n",
       "      <td>129.955476</td>\n",
       "      <td>92.027277</td>\n",
       "      <td>Type_S</td>\n",
       "    </tr>\n",
       "    <tr>\n",
       "      <th>2</th>\n",
       "      <td>44.529051</td>\n",
       "      <td>9.433234</td>\n",
       "      <td>52.000000</td>\n",
       "      <td>35.095817</td>\n",
       "      <td>134.711772</td>\n",
       "      <td>29.106575</td>\n",
       "      <td>Type_S</td>\n",
       "    </tr>\n",
       "    <tr>\n",
       "      <th>3</th>\n",
       "      <td>77.690577</td>\n",
       "      <td>21.380645</td>\n",
       "      <td>64.429442</td>\n",
       "      <td>56.309932</td>\n",
       "      <td>114.818751</td>\n",
       "      <td>26.931841</td>\n",
       "      <td>Type_S</td>\n",
       "    </tr>\n",
       "    <tr>\n",
       "      <th>4</th>\n",
       "      <td>76.147212</td>\n",
       "      <td>21.936186</td>\n",
       "      <td>82.961502</td>\n",
       "      <td>54.211027</td>\n",
       "      <td>123.932010</td>\n",
       "      <td>10.431972</td>\n",
       "      <td>Type_S</td>\n",
       "    </tr>\n",
       "  </tbody>\n",
       "</table>\n",
       "</div>"
      ],
      "text/plain": [
       "   P_incidence     P_tilt    L_angle    S_slope    P_radius   S_Degree   Class\n",
       "0    74.377678  32.053104  78.772013  42.324573  143.560690  56.125906  Type_S\n",
       "1    89.680567  32.704435  83.130732  56.976132  129.955476  92.027277  Type_S\n",
       "2    44.529051   9.433234  52.000000  35.095817  134.711772  29.106575  Type_S\n",
       "3    77.690577  21.380645  64.429442  56.309932  114.818751  26.931841  Type_S\n",
       "4    76.147212  21.936186  82.961502  54.211027  123.932010  10.431972  Type_S"
      ]
     },
     "execution_count": 6,
     "metadata": {},
     "output_type": "execute_result"
    }
   ],
   "source": [
    "print(df_TypeS.shape)\n",
    "df_TypeS.head()"
   ]
  },
  {
   "cell_type": "code",
   "execution_count": 7,
   "metadata": {},
   "outputs": [],
   "source": [
    "df=[df_Normal,df_TypeH,df_TypeS]"
   ]
  },
  {
   "cell_type": "code",
   "execution_count": 8,
   "metadata": {},
   "outputs": [],
   "source": [
    "df=df_Normal.merge(df_TypeH,how='outer',left_index=False )"
   ]
  },
  {
   "cell_type": "code",
   "execution_count": 9,
   "metadata": {},
   "outputs": [],
   "source": [
    "df=df.merge(df_TypeS,how='outer',left_index=False)"
   ]
  },
  {
   "cell_type": "code",
   "execution_count": 10,
   "metadata": {
    "scrolled": true
   },
   "outputs": [
    {
     "name": "stdout",
     "output_type": "stream",
     "text": [
      "(310, 7)\n"
     ]
    },
    {
     "data": {
      "text/html": [
       "<div>\n",
       "<style scoped>\n",
       "    .dataframe tbody tr th:only-of-type {\n",
       "        vertical-align: middle;\n",
       "    }\n",
       "\n",
       "    .dataframe tbody tr th {\n",
       "        vertical-align: top;\n",
       "    }\n",
       "\n",
       "    .dataframe thead th {\n",
       "        text-align: right;\n",
       "    }\n",
       "</style>\n",
       "<table border=\"1\" class=\"dataframe\">\n",
       "  <thead>\n",
       "    <tr style=\"text-align: right;\">\n",
       "      <th></th>\n",
       "      <th>P_incidence</th>\n",
       "      <th>P_tilt</th>\n",
       "      <th>L_angle</th>\n",
       "      <th>S_slope</th>\n",
       "      <th>P_radius</th>\n",
       "      <th>S_Degree</th>\n",
       "      <th>Class</th>\n",
       "    </tr>\n",
       "  </thead>\n",
       "  <tbody>\n",
       "    <tr>\n",
       "      <th>0</th>\n",
       "      <td>38.505273</td>\n",
       "      <td>16.964297</td>\n",
       "      <td>35.112814</td>\n",
       "      <td>21.540976</td>\n",
       "      <td>127.632875</td>\n",
       "      <td>7.986683</td>\n",
       "      <td>Normal</td>\n",
       "    </tr>\n",
       "    <tr>\n",
       "      <th>1</th>\n",
       "      <td>54.920858</td>\n",
       "      <td>18.968430</td>\n",
       "      <td>51.601455</td>\n",
       "      <td>35.952428</td>\n",
       "      <td>125.846646</td>\n",
       "      <td>2.001642</td>\n",
       "      <td>Normal</td>\n",
       "    </tr>\n",
       "    <tr>\n",
       "      <th>2</th>\n",
       "      <td>44.362490</td>\n",
       "      <td>8.945435</td>\n",
       "      <td>46.902096</td>\n",
       "      <td>35.417055</td>\n",
       "      <td>129.220682</td>\n",
       "      <td>4.994195</td>\n",
       "      <td>Normal</td>\n",
       "    </tr>\n",
       "    <tr>\n",
       "      <th>3</th>\n",
       "      <td>48.318931</td>\n",
       "      <td>17.452121</td>\n",
       "      <td>48.000000</td>\n",
       "      <td>30.866809</td>\n",
       "      <td>128.980308</td>\n",
       "      <td>-0.910941</td>\n",
       "      <td>Normal</td>\n",
       "    </tr>\n",
       "    <tr>\n",
       "      <th>4</th>\n",
       "      <td>45.701789</td>\n",
       "      <td>10.659859</td>\n",
       "      <td>42.577846</td>\n",
       "      <td>35.041929</td>\n",
       "      <td>130.178314</td>\n",
       "      <td>-3.388910</td>\n",
       "      <td>Normal</td>\n",
       "    </tr>\n",
       "  </tbody>\n",
       "</table>\n",
       "</div>"
      ],
      "text/plain": [
       "   P_incidence     P_tilt    L_angle    S_slope    P_radius  S_Degree   Class\n",
       "0    38.505273  16.964297  35.112814  21.540976  127.632875  7.986683  Normal\n",
       "1    54.920858  18.968430  51.601455  35.952428  125.846646  2.001642  Normal\n",
       "2    44.362490   8.945435  46.902096  35.417055  129.220682  4.994195  Normal\n",
       "3    48.318931  17.452121  48.000000  30.866809  128.980308 -0.910941  Normal\n",
       "4    45.701789  10.659859  42.577846  35.041929  130.178314 -3.388910  Normal"
      ]
     },
     "execution_count": 10,
     "metadata": {},
     "output_type": "execute_result"
    }
   ],
   "source": [
    "print(df.shape)\n",
    "df.head()"
   ]
  },
  {
   "cell_type": "markdown",
   "metadata": {},
   "source": [
    "# Data cleansing:"
   ]
  },
  {
   "cell_type": "code",
   "execution_count": 11,
   "metadata": {},
   "outputs": [
    {
     "name": "stdout",
     "output_type": "stream",
     "text": [
      "<class 'pandas.core.frame.DataFrame'>\n",
      "Int64Index: 310 entries, 0 to 309\n",
      "Data columns (total 7 columns):\n",
      " #   Column       Non-Null Count  Dtype  \n",
      "---  ------       --------------  -----  \n",
      " 0   P_incidence  310 non-null    float64\n",
      " 1   P_tilt       310 non-null    float64\n",
      " 2   L_angle      310 non-null    float64\n",
      " 3   S_slope      310 non-null    float64\n",
      " 4   P_radius     310 non-null    float64\n",
      " 5   S_Degree     310 non-null    float64\n",
      " 6   Class        310 non-null    object \n",
      "dtypes: float64(6), object(1)\n",
      "memory usage: 19.4+ KB\n"
     ]
    }
   ],
   "source": [
    "df.info()"
   ]
  },
  {
   "cell_type": "code",
   "execution_count": 12,
   "metadata": {},
   "outputs": [
    {
     "data": {
      "text/html": [
       "<div>\n",
       "<style scoped>\n",
       "    .dataframe tbody tr th:only-of-type {\n",
       "        vertical-align: middle;\n",
       "    }\n",
       "\n",
       "    .dataframe tbody tr th {\n",
       "        vertical-align: top;\n",
       "    }\n",
       "\n",
       "    .dataframe thead th {\n",
       "        text-align: right;\n",
       "    }\n",
       "</style>\n",
       "<table border=\"1\" class=\"dataframe\">\n",
       "  <thead>\n",
       "    <tr style=\"text-align: right;\">\n",
       "      <th></th>\n",
       "      <th>P_incidence</th>\n",
       "      <th>P_tilt</th>\n",
       "      <th>L_angle</th>\n",
       "      <th>S_slope</th>\n",
       "      <th>P_radius</th>\n",
       "      <th>S_Degree</th>\n",
       "      <th>Class</th>\n",
       "    </tr>\n",
       "  </thead>\n",
       "  <tbody>\n",
       "    <tr>\n",
       "      <th>0</th>\n",
       "      <td>38.505273</td>\n",
       "      <td>16.964297</td>\n",
       "      <td>35.112814</td>\n",
       "      <td>21.540976</td>\n",
       "      <td>127.632875</td>\n",
       "      <td>7.986683</td>\n",
       "      <td>Normal</td>\n",
       "    </tr>\n",
       "    <tr>\n",
       "      <th>1</th>\n",
       "      <td>54.920858</td>\n",
       "      <td>18.968430</td>\n",
       "      <td>51.601455</td>\n",
       "      <td>35.952428</td>\n",
       "      <td>125.846646</td>\n",
       "      <td>2.001642</td>\n",
       "      <td>Normal</td>\n",
       "    </tr>\n",
       "    <tr>\n",
       "      <th>2</th>\n",
       "      <td>44.362490</td>\n",
       "      <td>8.945435</td>\n",
       "      <td>46.902096</td>\n",
       "      <td>35.417055</td>\n",
       "      <td>129.220682</td>\n",
       "      <td>4.994195</td>\n",
       "      <td>Normal</td>\n",
       "    </tr>\n",
       "    <tr>\n",
       "      <th>3</th>\n",
       "      <td>48.318931</td>\n",
       "      <td>17.452121</td>\n",
       "      <td>48.000000</td>\n",
       "      <td>30.866809</td>\n",
       "      <td>128.980308</td>\n",
       "      <td>-0.910941</td>\n",
       "      <td>Normal</td>\n",
       "    </tr>\n",
       "    <tr>\n",
       "      <th>4</th>\n",
       "      <td>45.701789</td>\n",
       "      <td>10.659859</td>\n",
       "      <td>42.577846</td>\n",
       "      <td>35.041929</td>\n",
       "      <td>130.178314</td>\n",
       "      <td>-3.388910</td>\n",
       "      <td>Normal</td>\n",
       "    </tr>\n",
       "    <tr>\n",
       "      <th>...</th>\n",
       "      <td>...</td>\n",
       "      <td>...</td>\n",
       "      <td>...</td>\n",
       "      <td>...</td>\n",
       "      <td>...</td>\n",
       "      <td>...</td>\n",
       "      <td>...</td>\n",
       "    </tr>\n",
       "    <tr>\n",
       "      <th>305</th>\n",
       "      <td>80.111572</td>\n",
       "      <td>33.942432</td>\n",
       "      <td>85.101608</td>\n",
       "      <td>46.169139</td>\n",
       "      <td>125.593624</td>\n",
       "      <td>100.292107</td>\n",
       "      <td>Type_S</td>\n",
       "    </tr>\n",
       "    <tr>\n",
       "      <th>306</th>\n",
       "      <td>95.480229</td>\n",
       "      <td>46.550053</td>\n",
       "      <td>59.000000</td>\n",
       "      <td>48.930176</td>\n",
       "      <td>96.683903</td>\n",
       "      <td>77.283072</td>\n",
       "      <td>Type_S</td>\n",
       "    </tr>\n",
       "    <tr>\n",
       "      <th>307</th>\n",
       "      <td>74.094731</td>\n",
       "      <td>18.823727</td>\n",
       "      <td>76.032156</td>\n",
       "      <td>55.271004</td>\n",
       "      <td>128.405731</td>\n",
       "      <td>73.388216</td>\n",
       "      <td>Type_S</td>\n",
       "    </tr>\n",
       "    <tr>\n",
       "      <th>308</th>\n",
       "      <td>87.679087</td>\n",
       "      <td>20.365613</td>\n",
       "      <td>93.822416</td>\n",
       "      <td>67.313473</td>\n",
       "      <td>120.944829</td>\n",
       "      <td>76.730629</td>\n",
       "      <td>Type_S</td>\n",
       "    </tr>\n",
       "    <tr>\n",
       "      <th>309</th>\n",
       "      <td>48.259920</td>\n",
       "      <td>16.417462</td>\n",
       "      <td>36.329137</td>\n",
       "      <td>31.842457</td>\n",
       "      <td>94.882336</td>\n",
       "      <td>28.343799</td>\n",
       "      <td>Type_S</td>\n",
       "    </tr>\n",
       "  </tbody>\n",
       "</table>\n",
       "<p>310 rows × 7 columns</p>\n",
       "</div>"
      ],
      "text/plain": [
       "     P_incidence     P_tilt    L_angle    S_slope    P_radius    S_Degree  \\\n",
       "0      38.505273  16.964297  35.112814  21.540976  127.632875    7.986683   \n",
       "1      54.920858  18.968430  51.601455  35.952428  125.846646    2.001642   \n",
       "2      44.362490   8.945435  46.902096  35.417055  129.220682    4.994195   \n",
       "3      48.318931  17.452121  48.000000  30.866809  128.980308   -0.910941   \n",
       "4      45.701789  10.659859  42.577846  35.041929  130.178314   -3.388910   \n",
       "..           ...        ...        ...        ...         ...         ...   \n",
       "305    80.111572  33.942432  85.101608  46.169139  125.593624  100.292107   \n",
       "306    95.480229  46.550053  59.000000  48.930176   96.683903   77.283072   \n",
       "307    74.094731  18.823727  76.032156  55.271004  128.405731   73.388216   \n",
       "308    87.679087  20.365613  93.822416  67.313473  120.944829   76.730629   \n",
       "309    48.259920  16.417462  36.329137  31.842457   94.882336   28.343799   \n",
       "\n",
       "      Class  \n",
       "0    Normal  \n",
       "1    Normal  \n",
       "2    Normal  \n",
       "3    Normal  \n",
       "4    Normal  \n",
       "..      ...  \n",
       "305  Type_S  \n",
       "306  Type_S  \n",
       "307  Type_S  \n",
       "308  Type_S  \n",
       "309  Type_S  \n",
       "\n",
       "[310 rows x 7 columns]"
      ]
     },
     "execution_count": 12,
     "metadata": {},
     "output_type": "execute_result"
    }
   ],
   "source": [
    "df.dropna()"
   ]
  },
  {
   "cell_type": "code",
   "execution_count": 13,
   "metadata": {
    "scrolled": false
   },
   "outputs": [
    {
     "data": {
      "text/html": [
       "<div>\n",
       "<style scoped>\n",
       "    .dataframe tbody tr th:only-of-type {\n",
       "        vertical-align: middle;\n",
       "    }\n",
       "\n",
       "    .dataframe tbody tr th {\n",
       "        vertical-align: top;\n",
       "    }\n",
       "\n",
       "    .dataframe thead th {\n",
       "        text-align: right;\n",
       "    }\n",
       "</style>\n",
       "<table border=\"1\" class=\"dataframe\">\n",
       "  <thead>\n",
       "    <tr style=\"text-align: right;\">\n",
       "      <th></th>\n",
       "      <th>P_incidence</th>\n",
       "      <th>P_tilt</th>\n",
       "      <th>L_angle</th>\n",
       "      <th>S_slope</th>\n",
       "      <th>P_radius</th>\n",
       "      <th>S_Degree</th>\n",
       "    </tr>\n",
       "  </thead>\n",
       "  <tbody>\n",
       "    <tr>\n",
       "      <th>count</th>\n",
       "      <td>310.000000</td>\n",
       "      <td>310.000000</td>\n",
       "      <td>310.000000</td>\n",
       "      <td>310.000000</td>\n",
       "      <td>310.000000</td>\n",
       "      <td>310.000000</td>\n",
       "    </tr>\n",
       "    <tr>\n",
       "      <th>mean</th>\n",
       "      <td>60.496653</td>\n",
       "      <td>17.542822</td>\n",
       "      <td>51.930930</td>\n",
       "      <td>42.953831</td>\n",
       "      <td>117.920655</td>\n",
       "      <td>26.296694</td>\n",
       "    </tr>\n",
       "    <tr>\n",
       "      <th>std</th>\n",
       "      <td>17.236520</td>\n",
       "      <td>10.008330</td>\n",
       "      <td>18.554064</td>\n",
       "      <td>13.423102</td>\n",
       "      <td>13.317377</td>\n",
       "      <td>37.559027</td>\n",
       "    </tr>\n",
       "    <tr>\n",
       "      <th>min</th>\n",
       "      <td>26.147921</td>\n",
       "      <td>-6.554948</td>\n",
       "      <td>14.000000</td>\n",
       "      <td>13.366931</td>\n",
       "      <td>70.082575</td>\n",
       "      <td>-11.058179</td>\n",
       "    </tr>\n",
       "    <tr>\n",
       "      <th>25%</th>\n",
       "      <td>46.430294</td>\n",
       "      <td>10.667069</td>\n",
       "      <td>37.000000</td>\n",
       "      <td>33.347122</td>\n",
       "      <td>110.709196</td>\n",
       "      <td>1.603727</td>\n",
       "    </tr>\n",
       "    <tr>\n",
       "      <th>50%</th>\n",
       "      <td>58.691038</td>\n",
       "      <td>16.357689</td>\n",
       "      <td>49.562398</td>\n",
       "      <td>42.404912</td>\n",
       "      <td>118.268178</td>\n",
       "      <td>11.767934</td>\n",
       "    </tr>\n",
       "    <tr>\n",
       "      <th>75%</th>\n",
       "      <td>72.877696</td>\n",
       "      <td>22.120395</td>\n",
       "      <td>63.000000</td>\n",
       "      <td>52.695888</td>\n",
       "      <td>125.467674</td>\n",
       "      <td>41.287352</td>\n",
       "    </tr>\n",
       "    <tr>\n",
       "      <th>max</th>\n",
       "      <td>129.834041</td>\n",
       "      <td>49.431864</td>\n",
       "      <td>125.742385</td>\n",
       "      <td>121.429566</td>\n",
       "      <td>163.071041</td>\n",
       "      <td>418.543082</td>\n",
       "    </tr>\n",
       "  </tbody>\n",
       "</table>\n",
       "</div>"
      ],
      "text/plain": [
       "       P_incidence      P_tilt     L_angle     S_slope    P_radius    S_Degree\n",
       "count   310.000000  310.000000  310.000000  310.000000  310.000000  310.000000\n",
       "mean     60.496653   17.542822   51.930930   42.953831  117.920655   26.296694\n",
       "std      17.236520   10.008330   18.554064   13.423102   13.317377   37.559027\n",
       "min      26.147921   -6.554948   14.000000   13.366931   70.082575  -11.058179\n",
       "25%      46.430294   10.667069   37.000000   33.347122  110.709196    1.603727\n",
       "50%      58.691038   16.357689   49.562398   42.404912  118.268178   11.767934\n",
       "75%      72.877696   22.120395   63.000000   52.695888  125.467674   41.287352\n",
       "max     129.834041   49.431864  125.742385  121.429566  163.071041  418.543082"
      ]
     },
     "execution_count": 13,
     "metadata": {},
     "output_type": "execute_result"
    }
   ],
   "source": [
    "df.describe()"
   ]
  },
  {
   "cell_type": "code",
   "execution_count": 14,
   "metadata": {},
   "outputs": [
    {
     "data": {
      "text/plain": [
       "array(['Normal', 'Nrmal', 'Type_H', 'type_h', 'Type_S', 'tp_s'],\n",
       "      dtype=object)"
      ]
     },
     "execution_count": 14,
     "metadata": {},
     "output_type": "execute_result"
    }
   ],
   "source": [
    "df['Class'].unique()"
   ]
  },
  {
   "cell_type": "code",
   "execution_count": 15,
   "metadata": {},
   "outputs": [],
   "source": [
    "df['Class'] = df['Class'].replace('Nrmal', 'Normal')\n",
    "df['Class'] = df['Class'].replace('type_h', 'Type_H')\n",
    "df['Class'] = df['Class'].replace('tp_s', 'Type_S')"
   ]
  },
  {
   "cell_type": "code",
   "execution_count": 16,
   "metadata": {
    "scrolled": true
   },
   "outputs": [
    {
     "data": {
      "text/plain": [
       "array(['Normal', 'Type_H', 'Type_S'], dtype=object)"
      ]
     },
     "execution_count": 16,
     "metadata": {},
     "output_type": "execute_result"
    }
   ],
   "source": [
    "df['Class'].unique()"
   ]
  },
  {
   "cell_type": "markdown",
   "metadata": {},
   "source": [
    "# Data analysis & visualisation:"
   ]
  },
  {
   "cell_type": "code",
   "execution_count": 17,
   "metadata": {},
   "outputs": [
    {
     "data": {
      "text/plain": [
       "<AxesSubplot:title={'center':'L_angle'}, xlabel='L_angle', ylabel='Density'>"
      ]
     },
     "execution_count": 17,
     "metadata": {},
     "output_type": "execute_result"
    },
    {
     "data": {
      "image/png": "[encoded data removed]",
      "text/plain": [
       "<Figure size 1440x432 with 3 Axes>"
      ]
     },
     "metadata": {
      "needs_background": "light"
     },
     "output_type": "display_data"
    }
   ],
   "source": [
    "plt.figure(figsize=(20,6))\n",
    "plt.subplot(1, 3, 1)\n",
    "plt.title('P_incidence')\n",
    "sns.distplot(df['P_incidence'],color='green')\n",
    "\n",
    "plt.subplot(1,3,2)\n",
    "plt.title('P_tilt')\n",
    "sns.distplot(df['P_tilt'],color='blue')\n",
    "\n",
    "plt.subplot(1,3,3)\n",
    "plt.title('L_angle')\n",
    "sns.distplot(df['L_angle'],color='red')\n",
    "\n",
    "# #boxplot\n",
    "plt.subplot(1, 3, 1)\n",
    "plt.title('P_incidence')\n",
    "sns.boxplot(df['P_incidence'],orient='vertical',color='green')\n",
    "\n",
    "plt.subplot(1,3,2)\n",
    "plt.title('P_tilt')\n",
    "sns.boxplot(df['P_tilt'],orient='vertical',color='blue')\n",
    "\n",
    "plt.subplot(1,3,3)\n",
    "plt.title('L_angle')\n",
    "sns.boxplot(df['L_angle'],orient='vertical',color='red')\n",
    "\n",
    "#plt.show()"
   ]
  },
  {
   "cell_type": "code",
   "execution_count": 18,
   "metadata": {},
   "outputs": [
    {
     "data": {
      "text/plain": [
       "<AxesSubplot:title={'center':'S_Degree'}, xlabel='S_Degree'>"
      ]
     },
     "execution_count": 18,
     "metadata": {},
     "output_type": "execute_result"
    },
    {
     "data": {
      "image/png": "[encoded data removed]",
      "text/plain": [
       "<Figure size 1440x432 with 3 Axes>"
      ]
     },
     "metadata": {
      "needs_background": "light"
     },
     "output_type": "display_data"
    },
    {
     "data": {
      "image/png": "[encoded data removed]",
      "text/plain": [
       "<Figure size 1440x432 with 3 Axes>"
      ]
     },
     "metadata": {
      "needs_background": "light"
     },
     "output_type": "display_data"
    }
   ],
   "source": [
    "plt.figure(figsize=(20,6))\n",
    "plt.subplot(1, 3, 1)\n",
    "plt.title('S_slope')\n",
    "sns.distplot(df['S_slope'],color='green')\n",
    "\n",
    "plt.subplot(1,3,2)\n",
    "plt.title('P_radius')\n",
    "sns.distplot(df['P_radius'],color='blue')\n",
    "\n",
    "plt.subplot(1,3,3)\n",
    "plt.title('S_Degree')\n",
    "sns.distplot(df['S_Degree'],color='red')\n",
    "\n",
    "#\n",
    "plt.figure(figsize=(20,6))\n",
    "plt.subplot(1, 3, 1)\n",
    "plt.title('S_slope')\n",
    "sns.boxplot(df['S_slope'],orient='vertical',color='green')\n",
    "\n",
    "plt.subplot(1,3,2)\n",
    "plt.title('P_radius')\n",
    "sns.boxplot(df['P_radius'],orient='vertical',color='blue')\n",
    "\n",
    "plt.subplot(1,3,3)\n",
    "plt.title('S_Degree')\n",
    "sns.boxplot(df['S_Degree'],orient='vertical',color='red')\n"
   ]
  },
  {
   "cell_type": "code",
   "execution_count": 19,
   "metadata": {},
   "outputs": [
    {
     "data": {
      "text/html": [
       "<style  type=\"text/css\" >\n",
       "#T_2dda4bcb_8fe5_11eb_bbc4_001a7dda7115row0_col0,#T_2dda4bcb_8fe5_11eb_bbc4_001a7dda7115row1_col1,#T_2dda4bcb_8fe5_11eb_bbc4_001a7dda7115row2_col2,#T_2dda4bcb_8fe5_11eb_bbc4_001a7dda7115row3_col3,#T_2dda4bcb_8fe5_11eb_bbc4_001a7dda7115row4_col4,#T_2dda4bcb_8fe5_11eb_bbc4_001a7dda7115row5_col5{\n",
       "            background-color:  #b40426;\n",
       "            color:  #f1f1f1;\n",
       "        }#T_2dda4bcb_8fe5_11eb_bbc4_001a7dda7115row0_col1{\n",
       "            background-color:  #f3c7b1;\n",
       "            color:  #000000;\n",
       "        }#T_2dda4bcb_8fe5_11eb_bbc4_001a7dda7115row0_col2{\n",
       "            background-color:  #f59d7e;\n",
       "            color:  #000000;\n",
       "        }#T_2dda4bcb_8fe5_11eb_bbc4_001a7dda7115row0_col3{\n",
       "            background-color:  #e16751;\n",
       "            color:  #000000;\n",
       "        }#T_2dda4bcb_8fe5_11eb_bbc4_001a7dda7115row0_col4{\n",
       "            background-color:  #506bda;\n",
       "            color:  #000000;\n",
       "        }#T_2dda4bcb_8fe5_11eb_bbc4_001a7dda7115row0_col5,#T_2dda4bcb_8fe5_11eb_bbc4_001a7dda7115row5_col3{\n",
       "            background-color:  #f6bea4;\n",
       "            color:  #000000;\n",
       "        }#T_2dda4bcb_8fe5_11eb_bbc4_001a7dda7115row1_col0,#T_2dda4bcb_8fe5_11eb_bbc4_001a7dda7115row2_col3{\n",
       "            background-color:  #f7ac8e;\n",
       "            color:  #000000;\n",
       "        }#T_2dda4bcb_8fe5_11eb_bbc4_001a7dda7115row1_col2{\n",
       "            background-color:  #d6dce4;\n",
       "            color:  #000000;\n",
       "        }#T_2dda4bcb_8fe5_11eb_bbc4_001a7dda7115row1_col3{\n",
       "            background-color:  #9fbfff;\n",
       "            color:  #000000;\n",
       "        }#T_2dda4bcb_8fe5_11eb_bbc4_001a7dda7115row1_col4{\n",
       "            background-color:  #97b8ff;\n",
       "            color:  #000000;\n",
       "        }#T_2dda4bcb_8fe5_11eb_bbc4_001a7dda7115row1_col5,#T_2dda4bcb_8fe5_11eb_bbc4_001a7dda7115row2_col1{\n",
       "            background-color:  #c4d5f3;\n",
       "            color:  #000000;\n",
       "        }#T_2dda4bcb_8fe5_11eb_bbc4_001a7dda7115row2_col0{\n",
       "            background-color:  #f29072;\n",
       "            color:  #000000;\n",
       "        }#T_2dda4bcb_8fe5_11eb_bbc4_001a7dda7115row2_col4{\n",
       "            background-color:  #799cf8;\n",
       "            color:  #000000;\n",
       "        }#T_2dda4bcb_8fe5_11eb_bbc4_001a7dda7115row2_col5{\n",
       "            background-color:  #e8d6cc;\n",
       "            color:  #000000;\n",
       "        }#T_2dda4bcb_8fe5_11eb_bbc4_001a7dda7115row3_col0{\n",
       "            background-color:  #e36b54;\n",
       "            color:  #000000;\n",
       "        }#T_2dda4bcb_8fe5_11eb_bbc4_001a7dda7115row3_col1{\n",
       "            background-color:  #4358cb;\n",
       "            color:  #f1f1f1;\n",
       "        }#T_2dda4bcb_8fe5_11eb_bbc4_001a7dda7115row3_col2{\n",
       "            background-color:  #f5c4ac;\n",
       "            color:  #000000;\n",
       "        }#T_2dda4bcb_8fe5_11eb_bbc4_001a7dda7115row3_col4,#T_2dda4bcb_8fe5_11eb_bbc4_001a7dda7115row4_col0,#T_2dda4bcb_8fe5_11eb_bbc4_001a7dda7115row4_col1,#T_2dda4bcb_8fe5_11eb_bbc4_001a7dda7115row4_col2,#T_2dda4bcb_8fe5_11eb_bbc4_001a7dda7115row4_col3,#T_2dda4bcb_8fe5_11eb_bbc4_001a7dda7115row4_col5{\n",
       "            background-color:  #3b4cc0;\n",
       "            color:  #f1f1f1;\n",
       "        }#T_2dda4bcb_8fe5_11eb_bbc4_001a7dda7115row3_col5{\n",
       "            background-color:  #e6d7cf;\n",
       "            color:  #000000;\n",
       "        }#T_2dda4bcb_8fe5_11eb_bbc4_001a7dda7115row5_col0{\n",
       "            background-color:  #f7a98b;\n",
       "            color:  #000000;\n",
       "        }#T_2dda4bcb_8fe5_11eb_bbc4_001a7dda7115row5_col1{\n",
       "            background-color:  #b9d0f9;\n",
       "            color:  #000000;\n",
       "        }#T_2dda4bcb_8fe5_11eb_bbc4_001a7dda7115row5_col2{\n",
       "            background-color:  #edd2c3;\n",
       "            color:  #000000;\n",
       "        }#T_2dda4bcb_8fe5_11eb_bbc4_001a7dda7115row5_col4{\n",
       "            background-color:  #88abfd;\n",
       "            color:  #000000;\n",
       "        }</style><table id=\"T_2dda4bcb_8fe5_11eb_bbc4_001a7dda7115\" ><thead>    <tr>        <th class=\"blank level0\" ></th>        <th class=\"col_heading level0 col0\" >P_incidence</th>        <th class=\"col_heading level0 col1\" >P_tilt</th>        <th class=\"col_heading level0 col2\" >L_angle</th>        <th class=\"col_heading level0 col3\" >S_slope</th>        <th class=\"col_heading level0 col4\" >P_radius</th>        <th class=\"col_heading level0 col5\" >S_Degree</th>    </tr></thead><tbody>\n",
       "                <tr>\n",
       "                        <th id=\"T_2dda4bcb_8fe5_11eb_bbc4_001a7dda7115level0_row0\" class=\"row_heading level0 row0\" >P_incidence</th>\n",
       "                        <td id=\"T_2dda4bcb_8fe5_11eb_bbc4_001a7dda7115row0_col0\" class=\"data row0 col0\" >1.000000</td>\n",
       "                        <td id=\"T_2dda4bcb_8fe5_11eb_bbc4_001a7dda7115row0_col1\" class=\"data row0 col1\" >0.629199</td>\n",
       "                        <td id=\"T_2dda4bcb_8fe5_11eb_bbc4_001a7dda7115row0_col2\" class=\"data row0 col2\" >0.717282</td>\n",
       "                        <td id=\"T_2dda4bcb_8fe5_11eb_bbc4_001a7dda7115row0_col3\" class=\"data row0 col3\" >0.814960</td>\n",
       "                        <td id=\"T_2dda4bcb_8fe5_11eb_bbc4_001a7dda7115row0_col4\" class=\"data row0 col4\" >-0.247467</td>\n",
       "                        <td id=\"T_2dda4bcb_8fe5_11eb_bbc4_001a7dda7115row0_col5\" class=\"data row0 col5\" >0.638743</td>\n",
       "            </tr>\n",
       "            <tr>\n",
       "                        <th id=\"T_2dda4bcb_8fe5_11eb_bbc4_001a7dda7115level0_row1\" class=\"row_heading level0 row1\" >P_tilt</th>\n",
       "                        <td id=\"T_2dda4bcb_8fe5_11eb_bbc4_001a7dda7115row1_col0\" class=\"data row1 col0\" >0.629199</td>\n",
       "                        <td id=\"T_2dda4bcb_8fe5_11eb_bbc4_001a7dda7115row1_col1\" class=\"data row1 col1\" >1.000000</td>\n",
       "                        <td id=\"T_2dda4bcb_8fe5_11eb_bbc4_001a7dda7115row1_col2\" class=\"data row1 col2\" >0.432764</td>\n",
       "                        <td id=\"T_2dda4bcb_8fe5_11eb_bbc4_001a7dda7115row1_col3\" class=\"data row1 col3\" >0.062345</td>\n",
       "                        <td id=\"T_2dda4bcb_8fe5_11eb_bbc4_001a7dda7115row1_col4\" class=\"data row1 col4\" >0.032668</td>\n",
       "                        <td id=\"T_2dda4bcb_8fe5_11eb_bbc4_001a7dda7115row1_col5\" class=\"data row1 col5\" >0.397862</td>\n",
       "            </tr>\n",
       "            <tr>\n",
       "                        <th id=\"T_2dda4bcb_8fe5_11eb_bbc4_001a7dda7115level0_row2\" class=\"row_heading level0 row2\" >L_angle</th>\n",
       "                        <td id=\"T_2dda4bcb_8fe5_11eb_bbc4_001a7dda7115row2_col0\" class=\"data row2 col0\" >0.717282</td>\n",
       "                        <td id=\"T_2dda4bcb_8fe5_11eb_bbc4_001a7dda7115row2_col1\" class=\"data row2 col1\" >0.432764</td>\n",
       "                        <td id=\"T_2dda4bcb_8fe5_11eb_bbc4_001a7dda7115row2_col2\" class=\"data row2 col2\" >1.000000</td>\n",
       "                        <td id=\"T_2dda4bcb_8fe5_11eb_bbc4_001a7dda7115row2_col3\" class=\"data row2 col3\" >0.598387</td>\n",
       "                        <td id=\"T_2dda4bcb_8fe5_11eb_bbc4_001a7dda7115row2_col4\" class=\"data row2 col4\" >-0.080344</td>\n",
       "                        <td id=\"T_2dda4bcb_8fe5_11eb_bbc4_001a7dda7115row2_col5\" class=\"data row2 col5\" >0.533667</td>\n",
       "            </tr>\n",
       "            <tr>\n",
       "                        <th id=\"T_2dda4bcb_8fe5_11eb_bbc4_001a7dda7115level0_row3\" class=\"row_heading level0 row3\" >S_slope</th>\n",
       "                        <td id=\"T_2dda4bcb_8fe5_11eb_bbc4_001a7dda7115row3_col0\" class=\"data row3 col0\" >0.814960</td>\n",
       "                        <td id=\"T_2dda4bcb_8fe5_11eb_bbc4_001a7dda7115row3_col1\" class=\"data row3 col1\" >0.062345</td>\n",
       "                        <td id=\"T_2dda4bcb_8fe5_11eb_bbc4_001a7dda7115row3_col2\" class=\"data row3 col2\" >0.598387</td>\n",
       "                        <td id=\"T_2dda4bcb_8fe5_11eb_bbc4_001a7dda7115row3_col3\" class=\"data row3 col3\" >1.000000</td>\n",
       "                        <td id=\"T_2dda4bcb_8fe5_11eb_bbc4_001a7dda7115row3_col4\" class=\"data row3 col4\" >-0.342128</td>\n",
       "                        <td id=\"T_2dda4bcb_8fe5_11eb_bbc4_001a7dda7115row3_col5\" class=\"data row3 col5\" >0.523557</td>\n",
       "            </tr>\n",
       "            <tr>\n",
       "                        <th id=\"T_2dda4bcb_8fe5_11eb_bbc4_001a7dda7115level0_row4\" class=\"row_heading level0 row4\" >P_radius</th>\n",
       "                        <td id=\"T_2dda4bcb_8fe5_11eb_bbc4_001a7dda7115row4_col0\" class=\"data row4 col0\" >-0.247467</td>\n",
       "                        <td id=\"T_2dda4bcb_8fe5_11eb_bbc4_001a7dda7115row4_col1\" class=\"data row4 col1\" >0.032668</td>\n",
       "                        <td id=\"T_2dda4bcb_8fe5_11eb_bbc4_001a7dda7115row4_col2\" class=\"data row4 col2\" >-0.080344</td>\n",
       "                        <td id=\"T_2dda4bcb_8fe5_11eb_bbc4_001a7dda7115row4_col3\" class=\"data row4 col3\" >-0.342128</td>\n",
       "                        <td id=\"T_2dda4bcb_8fe5_11eb_bbc4_001a7dda7115row4_col4\" class=\"data row4 col4\" >1.000000</td>\n",
       "                        <td id=\"T_2dda4bcb_8fe5_11eb_bbc4_001a7dda7115row4_col5\" class=\"data row4 col5\" >-0.026065</td>\n",
       "            </tr>\n",
       "            <tr>\n",
       "                        <th id=\"T_2dda4bcb_8fe5_11eb_bbc4_001a7dda7115level0_row5\" class=\"row_heading level0 row5\" >S_Degree</th>\n",
       "                        <td id=\"T_2dda4bcb_8fe5_11eb_bbc4_001a7dda7115row5_col0\" class=\"data row5 col0\" >0.638743</td>\n",
       "                        <td id=\"T_2dda4bcb_8fe5_11eb_bbc4_001a7dda7115row5_col1\" class=\"data row5 col1\" >0.397862</td>\n",
       "                        <td id=\"T_2dda4bcb_8fe5_11eb_bbc4_001a7dda7115row5_col2\" class=\"data row5 col2\" >0.533667</td>\n",
       "                        <td id=\"T_2dda4bcb_8fe5_11eb_bbc4_001a7dda7115row5_col3\" class=\"data row5 col3\" >0.523557</td>\n",
       "                        <td id=\"T_2dda4bcb_8fe5_11eb_bbc4_001a7dda7115row5_col4\" class=\"data row5 col4\" >-0.026065</td>\n",
       "                        <td id=\"T_2dda4bcb_8fe5_11eb_bbc4_001a7dda7115row5_col5\" class=\"data row5 col5\" >1.000000</td>\n",
       "            </tr>\n",
       "    </tbody></table>"
      ],
      "text/plain": [
       "<pandas.io.formats.style.Styler at 0x1ff92181f10>"
      ]
     },
     "execution_count": 19,
     "metadata": {},
     "output_type": "execute_result"
    }
   ],
   "source": [
    "corr = df.corr()\n",
    "corr.style.background_gradient(cmap='coolwarm')"
   ]
  },
  {
   "cell_type": "code",
   "execution_count": 20,
   "metadata": {},
   "outputs": [
    {
     "data": {
      "text/html": [
       "<div>\n",
       "<style scoped>\n",
       "    .dataframe tbody tr th:only-of-type {\n",
       "        vertical-align: middle;\n",
       "    }\n",
       "\n",
       "    .dataframe tbody tr th {\n",
       "        vertical-align: top;\n",
       "    }\n",
       "\n",
       "    .dataframe thead th {\n",
       "        text-align: right;\n",
       "    }\n",
       "</style>\n",
       "<table border=\"1\" class=\"dataframe\">\n",
       "  <thead>\n",
       "    <tr style=\"text-align: right;\">\n",
       "      <th></th>\n",
       "      <th>P_incidence</th>\n",
       "      <th>P_tilt</th>\n",
       "      <th>L_angle</th>\n",
       "      <th>S_slope</th>\n",
       "      <th>P_radius</th>\n",
       "      <th>S_Degree</th>\n",
       "    </tr>\n",
       "    <tr>\n",
       "      <th>Class</th>\n",
       "      <th></th>\n",
       "      <th></th>\n",
       "      <th></th>\n",
       "      <th></th>\n",
       "      <th></th>\n",
       "      <th></th>\n",
       "    </tr>\n",
       "  </thead>\n",
       "  <tbody>\n",
       "    <tr>\n",
       "      <th>Normal</th>\n",
       "      <td>100</td>\n",
       "      <td>100</td>\n",
       "      <td>100</td>\n",
       "      <td>100</td>\n",
       "      <td>100</td>\n",
       "      <td>100</td>\n",
       "    </tr>\n",
       "    <tr>\n",
       "      <th>Type_H</th>\n",
       "      <td>60</td>\n",
       "      <td>60</td>\n",
       "      <td>60</td>\n",
       "      <td>60</td>\n",
       "      <td>60</td>\n",
       "      <td>60</td>\n",
       "    </tr>\n",
       "    <tr>\n",
       "      <th>Type_S</th>\n",
       "      <td>150</td>\n",
       "      <td>150</td>\n",
       "      <td>150</td>\n",
       "      <td>150</td>\n",
       "      <td>150</td>\n",
       "      <td>150</td>\n",
       "    </tr>\n",
       "  </tbody>\n",
       "</table>\n",
       "</div>"
      ],
      "text/plain": [
       "        P_incidence  P_tilt  L_angle  S_slope  P_radius  S_Degree\n",
       "Class                                                            \n",
       "Normal          100     100      100      100       100       100\n",
       "Type_H           60      60       60       60        60        60\n",
       "Type_S          150     150      150      150       150       150"
      ]
     },
     "execution_count": 20,
     "metadata": {},
     "output_type": "execute_result"
    }
   ],
   "source": [
    "df.groupby([\"Class\"]).count()"
   ]
  },
  {
   "cell_type": "code",
   "execution_count": 21,
   "metadata": {
    "scrolled": true
   },
   "outputs": [
    {
     "data": {
      "image/png": "[encoded data removed]",
      "text/plain": [
       "<Figure size 1080x432 with 1 Axes>"
      ]
     },
     "metadata": {
      "needs_background": "light"
     },
     "output_type": "display_data"
    }
   ],
   "source": [
    "plt.figure(figsize=(15,6))\n",
    "sns.distplot(df['P_incidence'], color = 'Red', label = 'P_incidence\t')\n",
    "sns.distplot(df['P_tilt'], color = 'Gold', label = 'P_tilt')\n",
    "sns.distplot(df['L_angle'], color = 'blue', label = 'L_angle')\n",
    "plt.legend()\n",
    "plt.show()"
   ]
  },
  {
   "cell_type": "code",
   "execution_count": 22,
   "metadata": {
    "scrolled": true
   },
   "outputs": [
    {
     "data": {
      "image/png": "[encoded data removed]",
      "text/plain": [
       "<Figure size 1080x432 with 1 Axes>"
      ]
     },
     "metadata": {
      "needs_background": "light"
     },
     "output_type": "display_data"
    }
   ],
   "source": [
    "plt.figure(figsize=(15,6))\n",
    "sns.distplot(df['S_slope'], color = 'Red', label = 'S_slope')\n",
    "sns.distplot(df['P_radius'], color = 'Gold', label = 'P_radius')\n",
    "sns.distplot(df['S_Degree'], color = 'blue', label = 'S_Degree')\n",
    "plt.legend()\n",
    "plt.show()"
   ]
  },
  {
   "cell_type": "code",
   "execution_count": 23,
   "metadata": {},
   "outputs": [
    {
     "data": {
      "text/html": [
       "<div>\n",
       "<style scoped>\n",
       "    .dataframe tbody tr th:only-of-type {\n",
       "        vertical-align: middle;\n",
       "    }\n",
       "\n",
       "    .dataframe tbody tr th {\n",
       "        vertical-align: top;\n",
       "    }\n",
       "\n",
       "    .dataframe thead th {\n",
       "        text-align: right;\n",
       "    }\n",
       "</style>\n",
       "<table border=\"1\" class=\"dataframe\">\n",
       "  <thead>\n",
       "    <tr style=\"text-align: right;\">\n",
       "      <th></th>\n",
       "      <th>P_incidence</th>\n",
       "      <th>P_tilt</th>\n",
       "      <th>L_angle</th>\n",
       "      <th>S_slope</th>\n",
       "      <th>P_radius</th>\n",
       "      <th>S_Degree</th>\n",
       "    </tr>\n",
       "  </thead>\n",
       "  <tbody>\n",
       "    <tr>\n",
       "      <th>0</th>\n",
       "      <td>38.505273</td>\n",
       "      <td>16.964297</td>\n",
       "      <td>35.112814</td>\n",
       "      <td>21.540976</td>\n",
       "      <td>127.632875</td>\n",
       "      <td>7.986683</td>\n",
       "    </tr>\n",
       "    <tr>\n",
       "      <th>1</th>\n",
       "      <td>54.920858</td>\n",
       "      <td>18.968430</td>\n",
       "      <td>51.601455</td>\n",
       "      <td>35.952428</td>\n",
       "      <td>125.846646</td>\n",
       "      <td>2.001642</td>\n",
       "    </tr>\n",
       "    <tr>\n",
       "      <th>2</th>\n",
       "      <td>44.362490</td>\n",
       "      <td>8.945435</td>\n",
       "      <td>46.902096</td>\n",
       "      <td>35.417055</td>\n",
       "      <td>129.220682</td>\n",
       "      <td>4.994195</td>\n",
       "    </tr>\n",
       "    <tr>\n",
       "      <th>3</th>\n",
       "      <td>48.318931</td>\n",
       "      <td>17.452121</td>\n",
       "      <td>48.000000</td>\n",
       "      <td>30.866809</td>\n",
       "      <td>128.980308</td>\n",
       "      <td>-0.910941</td>\n",
       "    </tr>\n",
       "    <tr>\n",
       "      <th>4</th>\n",
       "      <td>45.701789</td>\n",
       "      <td>10.659859</td>\n",
       "      <td>42.577846</td>\n",
       "      <td>35.041929</td>\n",
       "      <td>130.178314</td>\n",
       "      <td>-3.388910</td>\n",
       "    </tr>\n",
       "  </tbody>\n",
       "</table>\n",
       "</div>"
      ],
      "text/plain": [
       "   P_incidence     P_tilt    L_angle    S_slope    P_radius  S_Degree\n",
       "0    38.505273  16.964297  35.112814  21.540976  127.632875  7.986683\n",
       "1    54.920858  18.968430  51.601455  35.952428  125.846646  2.001642\n",
       "2    44.362490   8.945435  46.902096  35.417055  129.220682  4.994195\n",
       "3    48.318931  17.452121  48.000000  30.866809  128.980308 -0.910941\n",
       "4    45.701789  10.659859  42.577846  35.041929  130.178314 -3.388910"
      ]
     },
     "execution_count": 23,
     "metadata": {},
     "output_type": "execute_result"
    }
   ],
   "source": [
    "X=df.drop(labels= 'Class',axis=1)\n",
    "y=df['Class']\n",
    "X.head()"
   ]
  },
  {
   "cell_type": "code",
   "execution_count": 25,
   "metadata": {},
   "outputs": [
    {
     "data": {
      "text/html": [
       "<div>\n",
       "<style scoped>\n",
       "    .dataframe tbody tr th:only-of-type {\n",
       "        vertical-align: middle;\n",
       "    }\n",
       "\n",
       "    .dataframe tbody tr th {\n",
       "        vertical-align: top;\n",
       "    }\n",
       "\n",
       "    .dataframe thead th {\n",
       "        text-align: right;\n",
       "    }\n",
       "</style>\n",
       "<table border=\"1\" class=\"dataframe\">\n",
       "  <thead>\n",
       "    <tr style=\"text-align: right;\">\n",
       "      <th></th>\n",
       "      <th>P_incidence</th>\n",
       "      <th>P_tilt</th>\n",
       "      <th>L_angle</th>\n",
       "      <th>S_slope</th>\n",
       "      <th>P_radius</th>\n",
       "      <th>S_Degree</th>\n",
       "    </tr>\n",
       "  </thead>\n",
       "  <tbody>\n",
       "    <tr>\n",
       "      <th>count</th>\n",
       "      <td>3.100000e+02</td>\n",
       "      <td>3.100000e+02</td>\n",
       "      <td>3.100000e+02</td>\n",
       "      <td>3.100000e+02</td>\n",
       "      <td>3.100000e+02</td>\n",
       "      <td>3.100000e+02</td>\n",
       "    </tr>\n",
       "    <tr>\n",
       "      <th>mean</th>\n",
       "      <td>8.702716e-17</td>\n",
       "      <td>2.326096e-16</td>\n",
       "      <td>1.980495e-16</td>\n",
       "      <td>5.121351e-17</td>\n",
       "      <td>-6.274551e-16</td>\n",
       "      <td>-8.156558e-17</td>\n",
       "    </tr>\n",
       "    <tr>\n",
       "      <th>std</th>\n",
       "      <td>1.001617e+00</td>\n",
       "      <td>1.001617e+00</td>\n",
       "      <td>1.001617e+00</td>\n",
       "      <td>1.001617e+00</td>\n",
       "      <td>1.001617e+00</td>\n",
       "      <td>1.001617e+00</td>\n",
       "    </tr>\n",
       "    <tr>\n",
       "      <th>min</th>\n",
       "      <td>-1.996010e+00</td>\n",
       "      <td>-2.411664e+00</td>\n",
       "      <td>-2.047652e+00</td>\n",
       "      <td>-2.207741e+00</td>\n",
       "      <td>-3.597963e+00</td>\n",
       "      <td>-9.961725e-01</td>\n",
       "    </tr>\n",
       "    <tr>\n",
       "      <th>25%</th>\n",
       "      <td>-8.173982e-01</td>\n",
       "      <td>-6.881138e-01</td>\n",
       "      <td>-8.060267e-01</td>\n",
       "      <td>-7.168418e-01</td>\n",
       "      <td>-5.423830e-01</td>\n",
       "      <td>-6.585073e-01</td>\n",
       "    </tr>\n",
       "    <tr>\n",
       "      <th>50%</th>\n",
       "      <td>-1.049246e-01</td>\n",
       "      <td>-1.186061e-01</td>\n",
       "      <td>-1.278621e-01</td>\n",
       "      <td>-4.095971e-02</td>\n",
       "      <td>2.613767e-02</td>\n",
       "      <td>-3.874502e-01</td>\n",
       "    </tr>\n",
       "    <tr>\n",
       "      <th>75%</th>\n",
       "      <td>7.194643e-01</td>\n",
       "      <td>4.581158e-01</td>\n",
       "      <td>5.975493e-01</td>\n",
       "      <td>7.269414e-01</td>\n",
       "      <td>5.676209e-01</td>\n",
       "      <td>3.997679e-01</td>\n",
       "    </tr>\n",
       "    <tr>\n",
       "      <th>max</th>\n",
       "      <td>4.029206e+00</td>\n",
       "      <td>3.191402e+00</td>\n",
       "      <td>3.984615e+00</td>\n",
       "      <td>5.855771e+00</td>\n",
       "      <td>3.395818e+00</td>\n",
       "      <td>1.046035e+01</td>\n",
       "    </tr>\n",
       "  </tbody>\n",
       "</table>\n",
       "</div>"
      ],
      "text/plain": [
       "        P_incidence        P_tilt       L_angle       S_slope      P_radius  \\\n",
       "count  3.100000e+02  3.100000e+02  3.100000e+02  3.100000e+02  3.100000e+02   \n",
       "mean   8.702716e-17  2.326096e-16  1.980495e-16  5.121351e-17 -6.274551e-16   \n",
       "std    1.001617e+00  1.001617e+00  1.001617e+00  1.001617e+00  1.001617e+00   \n",
       "min   -1.996010e+00 -2.411664e+00 -2.047652e+00 -2.207741e+00 -3.597963e+00   \n",
       "25%   -8.173982e-01 -6.881138e-01 -8.060267e-01 -7.168418e-01 -5.423830e-01   \n",
       "50%   -1.049246e-01 -1.186061e-01 -1.278621e-01 -4.095971e-02  2.613767e-02   \n",
       "75%    7.194643e-01  4.581158e-01  5.975493e-01  7.269414e-01  5.676209e-01   \n",
       "max    4.029206e+00  3.191402e+00  3.984615e+00  5.855771e+00  3.395818e+00   \n",
       "\n",
       "           S_Degree  \n",
       "count  3.100000e+02  \n",
       "mean  -8.156558e-17  \n",
       "std    1.001617e+00  \n",
       "min   -9.961725e-01  \n",
       "25%   -6.585073e-01  \n",
       "50%   -3.874502e-01  \n",
       "75%    3.997679e-01  \n",
       "max    1.046035e+01  "
      ]
     },
     "execution_count": 25,
     "metadata": {},
     "output_type": "execute_result"
    }
   ],
   "source": [
    "XScaled  = X.apply(zscore)  # convert all attributes to Z scale \n",
    "\n",
    "XScaled.describe()"
   ]
  },
  {
   "cell_type": "code",
   "execution_count": 26,
   "metadata": {
    "scrolled": true
   },
   "outputs": [
    {
     "data": {
      "image/png": "[encoded data removed]",
      "text/plain": [
       "<Figure size 1080x432 with 1 Axes>"
      ]
     },
     "metadata": {
      "needs_background": "light"
     },
     "output_type": "display_data"
    }
   ],
   "source": [
    "plt.figure(figsize=(15,6))\n",
    "sns.distplot(XScaled['P_incidence'], color = 'Red', label = 'P_incidence\t')\n",
    "sns.distplot(XScaled['P_tilt'], color = 'Gold', label = 'P_tilt')\n",
    "sns.distplot(XScaled['L_angle'], color = 'blue', label = 'L_angle')\n",
    "sns.distplot(XScaled['S_slope'], color = 'Red', label = 'S_slope')\n",
    "sns.distplot(XScaled['P_radius'], color = 'Gold', label = 'P_radius')\n",
    "sns.distplot(XScaled['S_Degree'], color = 'blue', label = 'S_Degree')\n",
    "plt.legend()\n",
    "plt.show()"
   ]
  },
  {
   "cell_type": "markdown",
   "metadata": {},
   "source": [
    "# Model training, testing and tuning:"
   ]
  },
  {
   "cell_type": "code",
   "execution_count": 27,
   "metadata": {},
   "outputs": [],
   "source": [
    "from sklearn.model_selection import train_test_split\n",
    "X_train,X_test,y_train,y_test=train_test_split(XScaled,y,test_size=0.30,random_state=1)"
   ]
  },
  {
   "cell_type": "code",
   "execution_count": 28,
   "metadata": {},
   "outputs": [],
   "source": [
    "from sklearn.neighbors import KNeighborsClassifier\n",
    "NNH = KNeighborsClassifier(n_neighbors= 21 , weights = 'distance' )"
   ]
  },
  {
   "cell_type": "code",
   "execution_count": 29,
   "metadata": {},
   "outputs": [
    {
     "data": {
      "text/plain": [
       "KNeighborsClassifier(n_neighbors=21, weights='distance')"
      ]
     },
     "execution_count": 29,
     "metadata": {},
     "output_type": "execute_result"
    }
   ],
   "source": [
    "NNH.fit(X_train,y_train)"
   ]
  },
  {
   "cell_type": "code",
   "execution_count": 30,
   "metadata": {},
   "outputs": [
    {
     "data": {
      "text/plain": [
       "0.8064516129032258"
      ]
     },
     "execution_count": 30,
     "metadata": {},
     "output_type": "execute_result"
    }
   ],
   "source": [
    "predicted_labels = NNH.predict(X_test)\n",
    "NNH.score(X_test, y_test)"
   ]
  },
  {
   "cell_type": "code",
   "execution_count": 31,
   "metadata": {},
   "outputs": [],
   "source": [
    "scores =[]\n",
    "for k in range(1,50):\n",
    "    NNH = KNeighborsClassifier(n_neighbors = k, weights = 'distance' )\n",
    "    NNH.fit(X_train, y_train)\n",
    "    scores.append(NNH.score(X_test, y_test))"
   ]
  },
  {
   "cell_type": "code",
   "execution_count": 32,
   "metadata": {},
   "outputs": [
    {
     "data": {
      "text/plain": [
       "[<matplotlib.lines.Line2D at 0x1ff933bf370>]"
      ]
     },
     "execution_count": 32,
     "metadata": {},
     "output_type": "execute_result"
    },
    {
     "data": {
      "image/png": "[encoded data removed]",
      "text/plain": [
       "<Figure size 432x288 with 1 Axes>"
      ]
     },
     "metadata": {
      "needs_background": "light"
     },
     "output_type": "display_data"
    }
   ],
   "source": [
    "plt.plot(range(1,50),scores)"
   ]
  },
  {
   "cell_type": "code",
   "execution_count": 33,
   "metadata": {
    "scrolled": true
   },
   "outputs": [
    {
     "name": "stdout",
     "output_type": "stream",
     "text": [
      "Confusion Matrix\n"
     ]
    },
    {
     "data": {
      "text/plain": [
       "<AxesSubplot:>"
      ]
     },
     "execution_count": 33,
     "metadata": {},
     "output_type": "execute_result"
    },
    {
     "data": {
      "image/png": "[encoded data removed]",
      "text/plain": [
       "<Figure size 504x360 with 2 Axes>"
      ]
     },
     "metadata": {
      "needs_background": "light"
     },
     "output_type": "display_data"
    }
   ],
   "source": [
    "from sklearn import metrics\n",
    "\n",
    "print(\"Confusion Matrix\")\n",
    "cm=metrics.confusion_matrix(y_test, predicted_labels, labels=[\"Normal\",\"Type_S\",\"Type_H\"])\n",
    "\n",
    "df_cm = pd.DataFrame(cm, index = [i for i in [\"Normal\",\"Type_S\",\"Type_H\"]],\n",
    "                  columns = [i for i in [\"Predict N\",\"Predict S\",\"Type_H\"]])\n",
    "plt.figure(figsize = (7,5))\n",
    "sns.heatmap(df_cm, annot=True)"
   ]
  },
  {
   "cell_type": "code",
   "execution_count": 37,
   "metadata": {},
   "outputs": [
    {
     "name": "stdout",
     "output_type": "stream",
     "text": [
      "The optimal number of neighbors is:  1\n"
     ]
    }
   ],
   "source": [
    "# creating odd list of K for KNN\n",
    "myList = list(range(1, 30))\n",
    "\n",
    "# subsetting just the odd ones\n",
    "neighbors = list(filter(lambda x: x % 2 != 0, myList))\n",
    "# empty list that will hold accuracy scores\n",
    "accuracy_scores = []\n",
    "\n",
    "for k in neighbors:\n",
    "    knn = KNeighborsClassifier(n_neighbors = k)\n",
    "    knn.fit(X_train, y_train)\n",
    "    # predict the response\n",
    "    y_predictKNN = knn.predict(X_test)\n",
    "    # evaluate accuracy\n",
    "    scores = accuracy_score(y_test, y_predictKNN)\n",
    "    accuracy_scores.append(scores)\n",
    "\n",
    "# changing to misclassification error\n",
    "MSE = [1 - x for x in accuracy_scores]\n",
    "\n",
    "# determining best k\n",
    "optimal_k = neighbors[MSE.index(min(MSE))]\n",
    "print('The optimal number of neighbors is: ', optimal_k)"
   ]
  },
  {
   "cell_type": "code",
   "execution_count": 41,
   "metadata": {},
   "outputs": [
    {
     "name": "stdout",
     "output_type": "stream",
     "text": [
      "Accuracy Score of Training Data:  1.0\n",
      "\n",
      "Accuracy Score of Test Data:  0.7956989247311828\n",
      "\n",
      "Classification Report of KNN Model:\n",
      "                precision    recall  f1-score   support\n",
      "\n",
      "      Normal       0.69      0.71      0.70        28\n",
      "      Type_H       0.65      0.65      0.65        17\n",
      "      Type_S       0.91      0.90      0.91        48\n",
      "\n",
      "    accuracy                           0.80        93\n",
      "   macro avg       0.75      0.75      0.75        93\n",
      "weighted avg       0.80      0.80      0.80        93\n",
      "\n",
      "\n",
      "Confusion Matrix of KNN:\n",
      " [[20  4  4]\n",
      " [ 6 11  0]\n",
      " [ 3  2 43]]\n"
     ]
    },
    {
     "data": {
      "text/plain": [
       "Text(0.5, 1.0, 'Confusion Matrix HeatMap')"
      ]
     },
     "execution_count": 41,
     "metadata": {},
     "output_type": "execute_result"
    },
    {
     "data": {
      "image/png": "[encoded data removed]",
      "text/plain": [
       "<Figure size 864x576 with 2 Axes>"
      ]
     },
     "metadata": {
      "needs_background": "light"
     },
     "output_type": "display_data"
    }
   ],
   "source": [
    "#Using optimal_k from above as the final model for prediction\n",
    "knn = KNeighborsClassifier(n_neighbors = optimal_k)\n",
    "\n",
    "# fitting the model\n",
    "knn.fit(X_train, y_train)\n",
    "\n",
    "# predict the response\n",
    "y_predictKNN = knn.predict(X_test)\n",
    "\n",
    "# evaluate accuracy\n",
    "print('Accuracy Score of Training Data: ', knn.score(X_train, y_train))\n",
    "modelKNN_score = accuracy_score(y_test,y_predictKNN)\n",
    "\n",
    "cfm_KNN = confusion_matrix(y_test, y_predictKNN)\n",
    "print('\\nAccuracy Score of Test Data: ', modelKNN_score)\n",
    "print('\\nClassification Report of KNN Model:\\n ', classification_report(y_test, y_predictKNN))\n",
    "#print('\\nMean Absolute Error of KNN:\\n', mean_absolute_error(y_test, y_predictKNN))\n",
    "print('\\nConfusion Matrix of KNN:\\n', cfm_KNN)\n",
    "\n",
    "#visualization of confusion matrix in the form of a heatmap\n",
    "plt.figure(figsize = (12, 8))\n",
    "sns.heatmap(cfm_KNN, annot = True, cmap = 'RdYlGn', fmt = 'd')\n",
    "plt.xlabel('Actual Classes', fontsize = 15)\n",
    "plt.ylabel('Predicted Classes', fontsize = 15)\n",
    "plt.title('Confusion Matrix HeatMap', fontsize = 15)"
   ]
  },
  {
   "cell_type": "markdown",
   "metadata": {},
   "source": [
    "# Conclusion and improvisation:"
   ]
  },
  {
   "cell_type": "markdown",
   "metadata": {},
   "source": [
    "The Accuracy score of Training and Test Data is different but close which can signify accuracy in the model, the model can be optimised even more with Grid Search To Optimise Hyperparameter Combination and Continuously Tune The Parameters To Further Improve Accuracy."
   ]
  },
  {
   "cell_type": "markdown",
   "metadata": {},
   "source": [
    "quality: Quality of dataset was good, as number of outliers were less and null values were minimum.\n",
    "\n",
    "quantity:Quantity of data can be increased to improve the optimisation of model.\n",
    "\n",
    "variety:Improvement in variety of data can increase the implimentation of the presented model.\n"
   ]
  },
  {
   "cell_type": "code",
   "execution_count": null,
   "metadata": {},
   "outputs": [],
   "source": []
  }
 ],
 "metadata": {
  "kernelspec": {
   "display_name": "Python 3",
   "language": "python",
   "name": "python3"
  },
  "language_info": {
   "codemirror_mode": {
    "name": "ipython",
    "version": 3
   },
   "file_extension": ".py",
   "mimetype": "text/x-python",
   "name": "python",
   "nbconvert_exporter": "python",
   "pygments_lexer": "ipython3",
   "version": "3.8.5"
  }
 },
 "nbformat": 4,
 "nbformat_minor": 2
}
